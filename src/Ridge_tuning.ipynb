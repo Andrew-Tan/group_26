{
 "cells": [
  {
   "cell_type": "code",
   "execution_count": 1,
   "metadata": {},
   "outputs": [],
   "source": [
    "from sklearn.linear_model import Ridge\n",
    "from sklearn.model_selection import (\n",
    "    GridSearchCV,\n",
    "    RandomizedSearchCV,\n",
    "    cross_val_score,\n",
    "    cross_validate,\n",
    "    train_test_split,\n",
    ")\n",
    "import numpy as np\n",
    "import pandas as pd\n",
    "from sklearn.compose import ColumnTransformer\n",
    "from sklearn.pipeline import Pipeline\n",
    "from sklearn.feature_extraction.text import CountVectorizer\n",
    "from sklearn.preprocessing import (\n",
    "    OrdinalEncoder,\n",
    "    StandardScaler,\n",
    ")\n",
    "from scipy.stats import loguniform"
   ]
  },
  {
   "cell_type": "code",
   "execution_count": 3,
   "metadata": {},
   "outputs": [],
   "source": [
    "numeric_features = ['n_words']\n",
    "text_feature = 'Text'\n",
    "ordinal_features = ['sentiment']\n",
    "drop_features = ['Id', 'Author']\n",
    "target = 'Rating'"
   ]
  },
  {
   "cell_type": "code",
   "execution_count": 4,
   "metadata": {},
   "outputs": [],
   "source": [
    "train_df = pd.read_csv(\"../Data/processed/train.csv\")\n",
    "X_train, y_train = train_df.drop(columns=[target] + drop_features), train_df[target]"
   ]
  },
  {
   "cell_type": "code",
   "execution_count": 5,
   "metadata": {},
   "outputs": [
    {
     "data": {
      "text/plain": [
       "Pipeline(steps=[('prepro',\n",
       "                 ColumnTransformer(transformers=[('text',\n",
       "                                                  CountVectorizer(max_df=0.6,\n",
       "                                                                  max_features=20000),\n",
       "                                                  'Text'),\n",
       "                                                 ('num', StandardScaler(),\n",
       "                                                  ['n_words']),\n",
       "                                                 ('ord',\n",
       "                                                  OrdinalEncoder(categories=[['neg',\n",
       "                                                                              'compound',\n",
       "                                                                              'neu',\n",
       "                                                                              'pos']]),\n",
       "                                                  ['sentiment'])])),\n",
       "                ('Ridge', Ridge())])"
      ]
     },
     "execution_count": 5,
     "metadata": {},
     "output_type": "execute_result"
    }
   ],
   "source": [
    " preprocessor = ColumnTransformer(\n",
    "        transformers=[\n",
    "            ('text', CountVectorizer(max_features=20_000, max_df=0.6), text_feature),\n",
    "            ('num', StandardScaler(), numeric_features),\n",
    "            ('ord', OrdinalEncoder(categories=[['neg', 'compound', 'neu', 'pos']]), ordinal_features)\n",
    "        ]\n",
    "    )\n",
    "ml_pipe = Pipeline(\n",
    "        steps=[\n",
    "            (\"prepro\", preprocessor),\n",
    "            (\"Ridge\", Ridge())\n",
    "        ]\n",
    "    )\n",
    "ml_pipe"
   ]
  },
  {
   "cell_type": "code",
   "execution_count": 6,
   "metadata": {},
   "outputs": [],
   "source": [
    " param_grid = {\n",
    "        'Ridge__alpha': 10.0 ** np.arange(-3, 3)\n",
    "    }"
   ]
  },
  {
   "cell_type": "code",
   "execution_count": 7,
   "metadata": {},
   "outputs": [],
   "source": [
    "hyper_parameters_search = GridSearchCV(ml_pipe, param_grid=param_grid, n_jobs=-1, scoring='r2', verbose=1)"
   ]
  },
  {
   "cell_type": "code",
   "execution_count": 8,
   "metadata": {},
   "outputs": [
    {
     "name": "stdout",
     "output_type": "stream",
     "text": [
      "Fitting 5 folds for each of 6 candidates, totalling 30 fits\n"
     ]
    },
    {
     "name": "stderr",
     "output_type": "stream",
     "text": [
      "[Parallel(n_jobs=-1)]: Using backend LokyBackend with 8 concurrent workers.\n",
      "[Parallel(n_jobs=-1)]: Done  30 out of  30 | elapsed:   35.8s finished\n"
     ]
    },
    {
     "data": {
      "text/plain": [
       "GridSearchCV(estimator=Pipeline(steps=[('prepro',\n",
       "                                        ColumnTransformer(transformers=[('text',\n",
       "                                                                         CountVectorizer(max_df=0.6,\n",
       "                                                                                         max_features=20000),\n",
       "                                                                         'Text'),\n",
       "                                                                        ('num',\n",
       "                                                                         StandardScaler(),\n",
       "                                                                         ['n_words']),\n",
       "                                                                        ('ord',\n",
       "                                                                         OrdinalEncoder(categories=[['neg',\n",
       "                                                                                                     'compound',\n",
       "                                                                                                     'neu',\n",
       "                                                                                                     'pos']]),\n",
       "                                                                         ['sentiment'])])),\n",
       "                                       ('Ridge', Ridge())]),\n",
       "             n_jobs=-1,\n",
       "             param_grid={'Ridge__alpha': array([1.e-03, 1.e-02, 1.e-01, 1.e+00, 1.e+01, 1.e+02])},\n",
       "             scoring='r2', verbose=1)"
      ]
     },
     "execution_count": 8,
     "metadata": {},
     "output_type": "execute_result"
    }
   ],
   "source": [
    "hyper_parameters_search.fit(X_train, y_train)"
   ]
  },
  {
   "cell_type": "code",
   "execution_count": 9,
   "metadata": {},
   "outputs": [
    {
     "data": {
      "text/plain": [
       "Pipeline(steps=[('prepro',\n",
       "                 ColumnTransformer(transformers=[('text',\n",
       "                                                  CountVectorizer(max_df=0.6,\n",
       "                                                                  max_features=20000),\n",
       "                                                  'Text'),\n",
       "                                                 ('num', StandardScaler(),\n",
       "                                                  ['n_words']),\n",
       "                                                 ('ord',\n",
       "                                                  OrdinalEncoder(categories=[['neg',\n",
       "                                                                              'compound',\n",
       "                                                                              'neu',\n",
       "                                                                              'pos']]),\n",
       "                                                  ['sentiment'])])),\n",
       "                ('Ridge', Ridge(alpha=100.0))])"
      ]
     },
     "execution_count": 9,
     "metadata": {},
     "output_type": "execute_result"
    }
   ],
   "source": [
    "hyper_parameters_search.best_estimator_"
   ]
  },
  {
   "cell_type": "code",
   "execution_count": 11,
   "metadata": {},
   "outputs": [
    {
     "data": {
      "text/html": [
       "<div>\n",
       "<style scoped>\n",
       "    .dataframe tbody tr th:only-of-type {\n",
       "        vertical-align: middle;\n",
       "    }\n",
       "\n",
       "    .dataframe tbody tr th {\n",
       "        vertical-align: top;\n",
       "    }\n",
       "\n",
       "    .dataframe thead th {\n",
       "        text-align: right;\n",
       "    }\n",
       "</style>\n",
       "<table border=\"1\" class=\"dataframe\">\n",
       "  <thead>\n",
       "    <tr style=\"text-align: right;\">\n",
       "      <th></th>\n",
       "      <th>fit_time</th>\n",
       "      <th>score_time</th>\n",
       "      <th>test_score</th>\n",
       "      <th>train_score</th>\n",
       "    </tr>\n",
       "  </thead>\n",
       "  <tbody>\n",
       "    <tr>\n",
       "      <th>Ridge</th>\n",
       "      <td>1.706095</td>\n",
       "      <td>0.410828</td>\n",
       "      <td>0.531897</td>\n",
       "      <td>0.968792</td>\n",
       "    </tr>\n",
       "  </tbody>\n",
       "</table>\n",
       "</div>"
      ],
      "text/plain": [
       "       fit_time  score_time  test_score  train_score\n",
       "Ridge  1.706095    0.410828    0.531897     0.968792"
      ]
     },
     "execution_count": 11,
     "metadata": {},
     "output_type": "execute_result"
    }
   ],
   "source": [
    "results_df = {}\n",
    "scores = cross_validate(\n",
    "    hyper_parameters_search.best_estimator_,\n",
    "    X_train,\n",
    "    y_train,\n",
    "    scoring='r2',\n",
    "    return_train_score=True)\n",
    "\n",
    "df = pd.DataFrame(scores)\n",
    "results_df[\"Ridge\"] = df.mean()\n",
    "pd.DataFrame(results_df).T"
   ]
  }
 ],
 "metadata": {
  "kernelspec": {
   "display_name": "Python [conda env:573]",
   "language": "python",
   "name": "conda-env-573-py"
  },
  "language_info": {
   "codemirror_mode": {
    "name": "ipython",
    "version": 3
   },
   "file_extension": ".py",
   "mimetype": "text/x-python",
   "name": "python",
   "nbconvert_exporter": "python",
   "pygments_lexer": "ipython3",
   "version": "3.8.6"
  }
 },
 "nbformat": 4,
 "nbformat_minor": 4
}
