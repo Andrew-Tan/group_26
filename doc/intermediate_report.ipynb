{
 "cells": [
  {
   "cell_type": "markdown",
   "metadata": {},
   "source": [
    "# Predicting IMDB Ratings Based on Movie Reviews"
   ]
  },
  {
   "cell_type": "markdown",
   "metadata": {},
   "source": [
    "Authors: Yuanzhe Marco Ma, Arash Shamseddini, Kaicheng Tan, Zhenrui Yu"
   ]
  },
  {
   "cell_type": "markdown",
   "metadata": {},
   "source": [
    "## Table of Contents\n",
    "\n",
    "- [Project Goal](#0)\n",
    "- [Data Retrieval](#1)\n",
    "- [Exploratory Data Analysis (EDA)](#2)\n",
    "- [Preprocessing](#3)\n",
    "- [Maching Learning Model](#4)\n",
    "- [Prediction with Model](#5)"
   ]
  },
  {
   "cell_type": "markdown",
   "metadata": {},
   "source": [
    "## Project Goal"
   ]
  },
  {
   "cell_type": "markdown",
   "metadata": {},
   "source": [
    "In this project, we look at the relationship between movie's reviews and their IMDB scores (ranging from 0 ~ 5 stars). Positive reviews are often related to high IMDB scores, while negative reviews indicate the opposite. While it is easy for humans to understand a piece of review and guess the scores, we wonder if machines could understand it as well. Furthermore, we would like to automate this process, so that given a bunch of movie reviews, we are able to predict their corresponding IMDB scores easily. <br>\n",
    "\n",
    "In this project, we attempt to use Support Vector Machines as our machine learning model, aided by other statistical analysis tools such as ___ and ___. "
   ]
  },
  {
   "cell_type": "markdown",
   "metadata": {},
   "source": [
    "## Where Do We Get the Data?"
   ]
  },
  {
   "cell_type": "markdown",
   "metadata": {},
   "source": [
    "We obtained our data from an open-sourced github repository: <br> \n",
    "> https://github.com/nproellochs/SentimentDictionaries/blob/master/Dataset_IMDB.csv <br>\n",
    "\n",
    "The repository was originally used for sentiment analysis related to movie reviews. Here we are using the `Dataset_IMDB.csv` as our main data source. "
   ]
  },
  {
   "cell_type": "markdown",
   "metadata": {},
   "source": [
    "### Data Retrieval"
   ]
  },
  {
   "cell_type": "markdown",
   "metadata": {},
   "source": [
    "To automate our analysis, we have written a script to retrieve the dataset with Python. The script can be accessed [here](\"https://github.com/UBC-MDS/group_26/blob/main/src/download_data.py). "
   ]
  },
  {
   "cell_type": "markdown",
   "metadata": {},
   "source": [
    "## What does the data look like?"
   ]
  },
  {
   "cell_type": "markdown",
   "metadata": {},
   "source": [
    "Let's look into the dataset by performing some Exploratory Data Analysis (EDA). "
   ]
  },
  {
   "cell_type": "markdown",
   "metadata": {},
   "source": [
    "#### 1. Data Columns:\n",
    "| Column Name | Column Type | Description                             |\n",
    "|-------------|-------------|-----------------------------------------|\n",
    "| Id          | Numeric     | Unique ID assigned to each observation. |\n",
    "| Text        | Free Text   | Body of the review content.             |\n",
    "| Author      | Categorical | Author's name of the review             |\n",
    "| Rating      | Numeric     | Ratings given along with the review     |\n",
    "\n",
    "For this project, we look primarily into the `Text` and `Rating` columns. <br> Therefore, we will **drop** the `Author` and `Id` columns. "
   ]
  },
  {
   "cell_type": "markdown",
   "metadata": {},
   "source": [
    "#### 2. The `Text` feature\n",
    "The `Text` feature will be our primarily input feature. Here is a distribution of the lengths of the reviews. "
   ]
  },
  {
   "cell_type": "code",
   "execution_count": 1,
   "metadata": {},
   "outputs": [],
   "source": [
    "# Text length distribution here"
   ]
  },
  {
   "cell_type": "markdown",
   "metadata": {},
   "source": [
    "We also looked into the top 20 most frequent words in the reviews. They are shown below: \n",
    "\n",
    "| Word   | Frequency | Rank |\n",
    "|--------|-----------|------|\n",
    "|the     |   172557  |  1   |\n",
    "|of      |   78038   |  2   |\n",
    "|and     |   76392   |  3   |\n",
    "|to      |   74239   |  4   |\n",
    "|is      |   57547   |  5   |\n",
    "|in      |   49646   |  6   |\n",
    "|that    |   33476   |  7   |\n",
    "|it      |   33061   |  8   |\n",
    "|as      |   27536   |  9   |\n",
    "|with    |   26852   |  10  |\n",
    "|he      |   26320   |  11  |\n",
    "|for     |   25704   |  12  |\n",
    "|his     |   25454   |  13  |\n",
    "|on      |   18487   |  14  |\n",
    "|film    |   17220   |  15  |\n",
    "|by      |   16890   |  16  |\n",
    "|this    |   16778   |  17  |\n",
    "|but     |   16759   |  18  |\n",
    "|her     |   15690   |  19  |\n",
    "|are     |   15084   |  20  |\n",
    "\n",
    "As we can see, the most frequent words are often generic words such as preposition or pronouns, which has little implication to our learning. We might want to avoid overfitting to these words as we train our model. "
   ]
  },
  {
   "cell_type": "markdown",
   "metadata": {},
   "source": [
    "#### 3. The `Rating` Class\n",
    "`Ratings` will be our target class. Let's look at a distribution of `Rating`. "
   ]
  },
  {
   "cell_type": "code",
   "execution_count": 2,
   "metadata": {},
   "outputs": [],
   "source": [
    "# Rating distribution plot here"
   ]
  },
  {
   "cell_type": "markdown",
   "metadata": {},
   "source": [
    "#### 4. Correlation between `Text` length and `Rating`\n",
    "We suspect that people more passionate about certain movies tend to write longer reviews to express feelings. This could also be true for very negative reviews. <br> <br>\n",
    "A bar plot of `Text` length vs `Rating` is presented below. "
   ]
  },
  {
   "cell_type": "code",
   "execution_count": null,
   "metadata": {},
   "outputs": [],
   "source": [
    "# review length vs rating plot"
   ]
  },
  {
   "cell_type": "markdown",
   "metadata": {},
   "source": [
    "There doesn't seem to be a strong correlation between reviews length and rating. However, it is notable that for the most positive ratings (at 0.9-1.0), the reviews are the highest. "
   ]
  },
  {
   "cell_type": "markdown",
   "metadata": {},
   "source": [
    "## A Little bit of Pre-processing"
   ]
  },
  {
   "cell_type": "code",
   "execution_count": null,
   "metadata": {},
   "outputs": [],
   "source": []
  },
  {
   "cell_type": "code",
   "execution_count": null,
   "metadata": {},
   "outputs": [],
   "source": []
  },
  {
   "cell_type": "markdown",
   "metadata": {},
   "source": [
    "## Fitting the Model"
   ]
  },
  {
   "cell_type": "code",
   "execution_count": null,
   "metadata": {},
   "outputs": [],
   "source": []
  },
  {
   "cell_type": "code",
   "execution_count": null,
   "metadata": {},
   "outputs": [],
   "source": []
  },
  {
   "cell_type": "markdown",
   "metadata": {},
   "source": [
    "## Prediction Using our Model"
   ]
  },
  {
   "cell_type": "code",
   "execution_count": null,
   "metadata": {},
   "outputs": [],
   "source": []
  },
  {
   "cell_type": "code",
   "execution_count": null,
   "metadata": {},
   "outputs": [],
   "source": []
  },
  {
   "cell_type": "markdown",
   "metadata": {},
   "source": [
    "## Criticism and Improvements"
   ]
  },
  {
   "cell_type": "code",
   "execution_count": null,
   "metadata": {},
   "outputs": [],
   "source": []
  },
  {
   "cell_type": "code",
   "execution_count": null,
   "metadata": {},
   "outputs": [],
   "source": []
  },
  {
   "cell_type": "code",
   "execution_count": null,
   "metadata": {},
   "outputs": [],
   "source": []
  },
  {
   "cell_type": "code",
   "execution_count": null,
   "metadata": {},
   "outputs": [],
   "source": []
  },
  {
   "cell_type": "code",
   "execution_count": null,
   "metadata": {},
   "outputs": [],
   "source": []
  },
  {
   "cell_type": "code",
   "execution_count": null,
   "metadata": {},
   "outputs": [],
   "source": []
  },
  {
   "cell_type": "code",
   "execution_count": null,
   "metadata": {},
   "outputs": [],
   "source": []
  }
 ],
 "metadata": {
  "kernelspec": {
   "display_name": "Python 3",
   "language": "python",
   "name": "python3"
  },
  "language_info": {
   "codemirror_mode": {
    "name": "ipython",
    "version": 3
   },
   "file_extension": ".py",
   "mimetype": "text/x-python",
   "name": "python",
   "nbconvert_exporter": "python",
   "pygments_lexer": "ipython3",
   "version": "3.8.6"
  }
 },
 "nbformat": 4,
 "nbformat_minor": 4
}
