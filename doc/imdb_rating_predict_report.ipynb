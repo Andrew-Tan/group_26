{
 "cells": [
  {
   "cell_type": "markdown",
   "metadata": {},
   "source": [
    "# Predicting IMDB Ratings Based on Movie Reviews"
   ]
  },
  {
   "cell_type": "markdown",
   "metadata": {},
   "source": [
    "Authors: Yuanzhe Marco Ma, Arash Shamseddini, Kaicheng Tan, Zhenrui Yu"
   ]
  },
  {
   "cell_type": "markdown",
   "metadata": {},
   "source": [
    "## Table of Contents\n",
    "\n",
    "- [Project Goal](#1)\n",
    "- [Data Retrieval](#2)\n",
    "- [Exploratory Data Analysis (EDA)](#3)\n",
    "- [Preprocessing](#4)\n",
    "- [ML Model Fitting](#5)\n",
    "- [Predicting](#6)\n",
    "- [Criticism](#7)"
   ]
  },
  {
   "cell_type": "markdown",
   "metadata": {},
   "source": [
    "## I. Project Goal <a class=\"anchor\" id=\"1\"></a>"
   ]
  },
  {
   "cell_type": "markdown",
   "metadata": {},
   "source": [
    "In this project, we look at the relationship between movie reviews and their IMDB scores (ranging from 0 ~ 10). Positive reviews are often related to high IMDB scores, while negative reviews indicate the opposite. While it is easy for humans to understand a piece of review and guess the scores, we wonder if machines could understand it as well. Furthermore, we would like to automate this process, so that given a bunch of movie reviews, we are able to predict their corresponding IMDB scores easily. <br>\n",
    "\n",
    "In this project, we use Support Vector Machines as our machine learning model. "
   ]
  },
  {
   "cell_type": "markdown",
   "metadata": {},
   "source": [
    "## II. Where Do We Get the Data? <a class=\"anchor\" id=\"2\"></a>"
   ]
  },
  {
   "cell_type": "markdown",
   "metadata": {},
   "source": [
    "We obtained our data from an open-sourced github repository: <br> \n",
    "> https://github.com/nproellochs/SentimentDictionaries/blob/master/Dataset_IMDB.csv <br>\n",
    "\n",
    "The repository was originally used for sentiment analysis related to movie reviews. Here we are using the `Dataset_IMDB.csv` as our main data source. "
   ]
  },
  {
   "cell_type": "markdown",
   "metadata": {},
   "source": [
    "#### Automation"
   ]
  },
  {
   "cell_type": "markdown",
   "metadata": {},
   "source": [
    "To automate data retrieval, we have written a script to obtain the dataset with Python. The script can be accessed [here](../src/download_data.py). "
   ]
  },
  {
   "cell_type": "markdown",
   "metadata": {},
   "source": [
    "## III. What does the data look like? <a class=\"anchor\" id=\"3\"></a>"
   ]
  },
  {
   "cell_type": "markdown",
   "metadata": {},
   "source": [
    "Let's look into the dataset by performing some **Exploratory Data Analysis (EDA)**. "
   ]
  },
  {
   "cell_type": "markdown",
   "metadata": {},
   "source": [
    "#### 1. Data Columns:\n",
    "| Column Name | Column Type | Description                             |\n",
    "|-------------|-------------|-----------------------------------------|\n",
    "| Id          | Numeric     | Unique ID assigned to each observation. |\n",
    "| Text        | Free Text   | Body of the review content.             |\n",
    "| Author      | Categorical | Author's name of the review             |\n",
    "| Rating      | Numeric     | Ratings given along with the review (normalized)   |\n",
    "\n",
    "For this project, we look primarily into the `Text` and `Rating` columns.  \n",
    "\n"
   ]
  },
  {
   "cell_type": "markdown",
   "metadata": {},
   "source": [
    "We realized that `Author` may have significant relation to ratings, but since we are making a generalized model for reviews from any audience, we have decided to discard it for this analysis. "
   ]
  },
  {
   "cell_type": "markdown",
   "metadata": {},
   "source": [
    "Therefore, we will **drop** both the `Author` and `Id` columns."
   ]
  },
  {
   "cell_type": "markdown",
   "metadata": {},
   "source": [
    "#### 2. The `Text` feature\n",
    "The `Text` feature contains all the movie reviews. This will be our primarily input feature. <br>\n",
    "Below are the top 10 most frequent words in the reviews:"
   ]
  },
  {
   "cell_type": "markdown",
   "metadata": {},
   "source": [
    "| Word   | Frequency | Rank |\n",
    "|--------|-----------|------|\n",
    "|the     |   172557  |  1   |\n",
    "|of      |   78038   |  2   |\n",
    "|and     |   76392   |  3   |\n",
    "|to      |   74239   |  4   |\n",
    "|is      |   57547   |  5   |\n",
    "|in      |   49646   |  6   |\n",
    "|that    |   33476   |  7   |\n",
    "|it      |   33061   |  8   |\n",
    "|as      |   27536   |  9   |\n",
    "|with    |   26852   |  10  |\n",
    "\n",
    "As we can see, the most frequent words are often generic words such as prepositions and pronouns, which has little implication to our model learning. We might want to avoid overfitting to these words as we train our model. "
   ]
  },
  {
   "cell_type": "markdown",
   "metadata": {},
   "source": [
    "#### 3. The `Rating` Class\n",
    "`Ratings` will be our target class. Let's look at a distribution of `Rating`. "
   ]
  },
  {
   "cell_type": "markdown",
   "metadata": {},
   "source": [
    "![ratings_histo](../results/histogram_rating_distribution.svg)\n",
    "\n",
    "The ratings seem roughly normally distributed, with a little skewness to the left. Most of the ratings cluster around 0.5 ~ 0.8. "
   ]
  },
  {
   "cell_type": "markdown",
   "metadata": {},
   "source": [
    "#### 4. Correlation between `Text` length and `Rating`\n",
    "We suspect that people more passionate about certain movies tend to write longer reviews to express feelings. This could also be true for very negative reviews. <br> <br>\n",
    "A bar plot of `Text` length vs `Rating` is presented below. "
   ]
  },
  {
   "cell_type": "markdown",
   "metadata": {},
   "source": [
    "![textlength_vs_rating](../results/histogram_rating_vs_text_length.svg)\n",
    "\n",
    "There doesn't seem to be a strong correlation between reviews length and rating. However, it is notable that for the most positive ratings (from 0.7 ~ 1.0), the reviews tend to be higher. "
   ]
  },
  {
   "cell_type": "markdown",
   "metadata": {},
   "source": [
    "## IV. Preparing our Data <a class=\"anchor\" id=\"4\"></a>"
   ]
  },
  {
   "cell_type": "markdown",
   "metadata": {},
   "source": [
    "In addition to `Text` feature alone, we extracted two potentially useful columns that could enhance our machine learning model. \n",
    "\n",
    "#### 1. `n_words`\n",
    "As mentioned above, we suspect some correlation between review lengths and ratings. Therefore we created an `n_words` feature, which counts the number of words in each review.  \n",
    "#### 2. `sentiment`\n",
    "We utilized the [**NLTK**](#c2) (Bird 2009) package to assist us in extracting the sentiment of each review. This `sentiment` feature will have four ordinal categories - ['neg', 'compound', 'neu', 'pos']. "
   ]
  },
  {
   "cell_type": "markdown",
   "metadata": {},
   "source": [
    "## V. Fitting the Model <a class=\"anchor\" id=\"5\"></a>"
   ]
  },
  {
   "cell_type": "markdown",
   "metadata": {},
   "source": [
    "Now we have our training data ready, we will fit our regression model using a Support Vector Machine. <br>\n",
    "Here we utilized SVR estimator from [sklearn](#c3) (Pedregosa et al. 2011)."
   ]
  },
  {
   "cell_type": "markdown",
   "metadata": {},
   "source": [
    "We tuned our model with hyper-parameter optimization. Specifically, we tuned the `Gamma` hyperparameter of SVR using sklearn's [GridSearchCV](https://scikit-learn.org/stable/modules/generated/sklearn.model_selection.GridSearchCV.html). The `Gamma` hyperparameter controls the complexity of our model. We want to pick the best `Gamma` so that our model does a decent job in predicting while avoiding over-fitting. "
   ]
  },
  {
   "cell_type": "markdown",
   "metadata": {},
   "source": [
    "Below is our tuned, best performing model based on cross-validation score."
   ]
  },
  {
   "cell_type": "markdown",
   "metadata": {},
   "source": [
    "| Model Name | Hyperparameter - Gamma | Mean Fit Time |  Mean Scoring Time | Mean CV Score |\n",
    "|------------|------------------------|---------------|--------------------|---------------|\n",
    "|    SVR     |  0.0007000000000000001 | 43.80s | 11.40s |0.4700 |\n",
    "\n",
    "For a more detailed GridSearchCV result, see [this file](../results/hyper_param_search_result.csv)."
   ]
  },
  {
   "cell_type": "markdown",
   "metadata": {},
   "source": [
    "## VI. Predicting with Our Model <a class=\"anchor\" id=\"6\"></a>"
   ]
  },
  {
   "cell_type": "markdown",
   "metadata": {},
   "source": [
    "After finalizing our model, we tested it on our test set. \n",
    "\n",
    "#### 1. $R^2$, __RMSE__ Scores\n",
    "\n",
    "$R^2$ and RMSE (Root-mean-squared-error) are two common metrics for evaluating a regression model's accuracy. <br> \n",
    "\n",
    "- The obtained $R^2$ score for the test set is **0.5037**, which was comparable to, and even better than our validation score.\n",
    "- The RMSE score was 1.2861. This seems large because it means our predicted score can have a margin of error of over 1.2 points. "
   ]
  },
  {
   "cell_type": "markdown",
   "metadata": {},
   "source": [
    "#### 2. Prediction vs. True Ratings\n",
    "We have also created a scatterplot to compare our predicted ratings vs. the true ratings. "
   ]
  },
  {
   "cell_type": "markdown",
   "metadata": {},
   "source": [
    "![true_vs_predict](../results/true_vs_predict.svg)"
   ]
  },
  {
   "cell_type": "markdown",
   "metadata": {},
   "source": [
    "> There is an obvious difference between the predicted ratings and true ratings. In the true ratings, people tend to give whole number rating, i.e. 0.3 instead of 0.3247. Our model did not capture that. \n",
    "\n",
    "Despite that, most of the points are somewhat clustered around the identity line. This indicates that our model didn't seem to under-fit or over-fit. "
   ]
  },
  {
   "cell_type": "markdown",
   "metadata": {},
   "source": [
    "## VII. Criticism and Improvements <a class=\"anchor\" id=\"7\"></a>"
   ]
  },
  {
   "cell_type": "markdown",
   "metadata": {},
   "source": [
    "Now that we are done with our prediction and analysis, we can examine the quality of our work. \n",
    "In fact, there are a few areas of improvement. "
   ]
  },
  {
   "cell_type": "markdown",
   "metadata": {},
   "source": [
    "- We discarded the `Author` and `id` columns at the beginning. In fact, these columns may be influential features, especially `Author`. One major flaw of our dataset is that all reviews come from four critics. This makes it difficult to generalize to the broader audience. It would better if we can obtain reviews from the general audiences. "
   ]
  },
  {
   "cell_type": "markdown",
   "metadata": {},
   "source": [
    "- The `sentiment` feature genereated with the NLTK package contained only `neu` and `compound` in our dataset. This is confusing and we have yet to understand this behavior. We included the feature regardless because it may still provide useful information. However, this is definitely a place we need to investigate further into. "
   ]
  },
  {
   "cell_type": "markdown",
   "metadata": {},
   "source": [
    "- As shown on the predicition vs true rating plot above, some of our predictions went beyond the rating limit of 10. We would have to set some sort of boundary for our prediction."
   ]
  },
  {
   "cell_type": "markdown",
   "metadata": {},
   "source": [
    "- As mentioned above, our model did not capture the pattern where humans tend to give whole number scores. In the future, we can probably give more emphasis to predicting whole number scores, so that our model resembles more human behaviors. "
   ]
  },
  {
   "cell_type": "markdown",
   "metadata": {},
   "source": [
    "## References\n",
    "\n",
    "1. Dua, Dheeru, and Casey Graff. 2017. “UCI Machine Learning Repository.” University of California, Irvine, School of Information; Computer Sciences. (http://archive.ics.uci.edu/ml) <a class=\"anchor\" id=\"c1\"></a>\n",
    "2. Bird, Steven, Edward Loper and Ewan Klein (2009). Natural Language Processing with Python.  O'Reilly Media Inc. (https://www.nltk.org/) <a class=\"anchor\" id=\"c2\"></a>\n",
    "3. Scikit-learn: Machine Learning in Python, Pedregosa et al., JMLR 12, pp. 2825-2830, 2011. (https://jmlr.csail.mit.edu/papers/v12/pedregosa11a.html) <a class=\"anchor\" id=\"c3\"></a>\n",
    "4. Gareth James, Daniela Witten, Trevor Hastie and Rob Tibshirani, 2009, “An Introduction to Statistical Learning with Application in R”, Springer Publishing"
   ]
  },
  {
   "cell_type": "code",
   "execution_count": null,
   "metadata": {},
   "outputs": [],
   "source": []
  }
 ],
 "metadata": {
  "kernelspec": {
   "display_name": "Python 3",
   "language": "python",
   "name": "python3"
  },
  "language_info": {
   "codemirror_mode": {
    "name": "ipython",
    "version": 3
   },
   "file_extension": ".py",
   "mimetype": "text/x-python",
   "name": "python",
   "nbconvert_exporter": "python",
   "pygments_lexer": "ipython3",
   "version": "3.8.6"
  }
 },
 "nbformat": 4,
 "nbformat_minor": 4
}
