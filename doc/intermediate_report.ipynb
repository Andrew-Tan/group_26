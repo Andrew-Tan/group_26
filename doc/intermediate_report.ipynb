{
 "cells": [
  {
   "cell_type": "markdown",
   "metadata": {},
   "source": [
    "# Predicting IMDB Ratings Based on Movie Reviews"
   ]
  },
  {
   "cell_type": "markdown",
   "metadata": {},
   "source": [
    "Authors: Yuanzhe Marco Ma, Arash Shamseddini, Kaicheng Tan, Zhenrui Yu"
   ]
  },
  {
   "cell_type": "markdown",
   "metadata": {},
   "source": [
    "## Table of Contents\n",
    "\n",
    "- [Project Goal](#1)\n",
    "- [Data Retrieval](#2)\n",
    "- [Exploratory Data Analysis (EDA)](#3)\n",
    "- [Preprocessing](#4)\n",
    "- [ML Model Fitting](#5)\n",
    "- [Predicting](#6)\n",
    "- [Criticism](#7)"
   ]
  },
  {
   "cell_type": "markdown",
   "metadata": {},
   "source": [
    "## I. Project Goal <a class=\"anchor\" id=\"1\"></a>"
   ]
  },
  {
   "cell_type": "markdown",
   "metadata": {},
   "source": [
    "In this project, we look at the relationship between movie reviews and their IMDB scores (ranging from 0 ~ 10). Positive reviews are often related to high IMDB scores, while negative reviews indicate the opposite. While it is easy for humans to understand a piece of review and guess the scores, we wonder if machines could understand it as well. Furthermore, we would like to automate this process, so that given a bunch of movie reviews, we are able to predict their corresponding IMDB scores easily. <br>\n",
    "\n",
    "In this project, we use Support Vector Machines as our machine learning model. "
   ]
  },
  {
   "cell_type": "markdown",
   "metadata": {},
   "source": [
    "## II. Where Do We Get the Data? <a class=\"anchor\" id=\"2\"></a>"
   ]
  },
  {
   "cell_type": "markdown",
   "metadata": {},
   "source": [
    "We obtained our data from an open-sourced github repository: <br> \n",
    "> https://github.com/nproellochs/SentimentDictionaries/blob/master/Dataset_IMDB.csv <br>\n",
    "\n",
    "The repository was originally used for sentiment analysis related to movie reviews. Here we are using the `Dataset_IMDB.csv` as our main data source. "
   ]
  },
  {
   "cell_type": "markdown",
   "metadata": {},
   "source": [
    "#### Automation"
   ]
  },
  {
   "cell_type": "markdown",
   "metadata": {},
   "source": [
    "To automate data retrieval, we have written a script to obtain the dataset with Python. The script can be accessed [here](../src/download_data.py). "
   ]
  },
  {
   "cell_type": "markdown",
   "metadata": {},
   "source": [
    "## III. What does the data look like? <a class=\"anchor\" id=\"3\"></a>"
   ]
  },
  {
   "cell_type": "markdown",
   "metadata": {},
   "source": [
    "Let's look into the dataset by performing some **Exploratory Data Analysis (EDA)**. "
   ]
  },
  {
   "cell_type": "markdown",
   "metadata": {},
   "source": [
    "#### 1. Data Columns:\n",
    "| Column Name | Column Type | Description                             |\n",
    "|-------------|-------------|-----------------------------------------|\n",
    "| Id          | Numeric     | Unique ID assigned to each observation. |\n",
    "| Text        | Free Text   | Body of the review content.             |\n",
    "| Author      | Categorical | Author's name of the review             |\n",
    "| Rating      | Numeric     | Ratings given along with the review (normalized)   |\n",
    "\n",
    "For this project, we look primarily into the `Text` and `Rating` columns.  \n",
    "\n"
   ]
  },
  {
   "cell_type": "markdown",
   "metadata": {},
   "source": [
    "We realized that `Author` may have significant relation to ratings, but since we are making a generalized model for reviews from any audience, we have decided to discard it for this analysis. "
   ]
  },
  {
   "cell_type": "markdown",
   "metadata": {},
   "source": [
    "Therefore, we will **drop** both the `Author` and `Id` columns."
   ]
  },
  {
   "cell_type": "markdown",
   "metadata": {},
   "source": [
    "#### 2. The `Text` feature\n",
    "The `Text` feature contains all the movie reviews. This will be our primarily input feature. <br>\n",
    "Below are the top 10 most frequent words in the reviews:"
   ]
  },
  {
   "cell_type": "markdown",
   "metadata": {},
   "source": [
    "| Word   | Frequency | Rank |\n",
    "|--------|-----------|------|\n",
    "|the     |   172557  |  1   |\n",
    "|of      |   78038   |  2   |\n",
    "|and     |   76392   |  3   |\n",
    "|to      |   74239   |  4   |\n",
    "|is      |   57547   |  5   |\n",
    "|in      |   49646   |  6   |\n",
    "|that    |   33476   |  7   |\n",
    "|it      |   33061   |  8   |\n",
    "|as      |   27536   |  9   |\n",
    "|with    |   26852   |  10  |\n",
    "\n",
    "As we can see, the most frequent words are often generic words such as prepositions and pronouns, which has little implication to our model learning. We might want to avoid overfitting to these words as we train our model. "
   ]
  },
  {
   "cell_type": "markdown",
   "metadata": {},
   "source": [
    "#### 3. The `Rating` Class\n",
    "`Ratings` will be our target class. Let's look at a distribution of `Rating`. "
   ]
  },
  {
   "cell_type": "markdown",
   "metadata": {},
   "source": [
    "![ratings_histo](../results/histogram_rating_distribution.svg)\n",
    "\n",
    "The ratings seem roughly normally distributed, with a little skewness to the left. Most of the ratings cluster around 0.5 ~ 0.8. "
   ]
  },
  {
   "cell_type": "markdown",
   "metadata": {},
   "source": [
    "#### 4. Correlation between `Text` length and `Rating`\n",
    "We suspect that people more passionate about certain movies tend to write longer reviews to express feelings. This could also be true for very negative reviews. <br> <br>\n",
    "A bar plot of `Text` length vs `Rating` is presented below. "
   ]
  },
  {
   "cell_type": "markdown",
   "metadata": {},
   "source": [
    "![textlength_vs_rating](../results/histogram_rating_vs_text_length.svg)\n",
    "\n",
    "There doesn't seem to be a strong correlation between reviews length and rating. However, it is notable that for the most positive ratings (from 0.7 ~ 1.0), the reviews tend to be higher. "
   ]
  },
  {
   "cell_type": "markdown",
   "metadata": {},
   "source": [
    "## IV. Preparing our Data <a class=\"anchor\" id=\"4\"></a>"
   ]
  },
  {
   "cell_type": "markdown",
   "metadata": {},
   "source": [
    "In addition to `Text` feature alone, we extracted two potentially useful columns that could enhance our machine learning model. \n",
    "\n",
    "#### 1. `n_words`\n",
    "As mentioned above, we suspect some correlation between review lengths and ratings. Therefore we created an `n_words` feature, which counts the number of words in each review.  \n",
    "#### 2. `sentiment`\n",
    "We utilized the [**NLTK**](#c2) package to assist us in extracting the sentiment of each review. This `sentiment` feature will have four ordinal categories - ['neg', 'compound', 'neu', 'pos']. "
   ]
  },
  {
   "cell_type": "markdown",
   "metadata": {},
   "source": [
    "## V. Fitting the Model <a class=\"anchor\" id=\"5\"></a>"
   ]
  },
  {
   "cell_type": "markdown",
   "metadata": {},
   "source": [
    "Now we have our training data ready, we will fit our regression model using a Support Vector Machine. <br>\n",
    "Here we utilized [sklearn](#c3)'s SVR estimator."
   ]
  },
  {
   "cell_type": "markdown",
   "metadata": {},
   "source": [
    "We tuned our model with hyper-parameter optimization. Specifically, we tuned the `Gamma` hyperparameter of SVR using sklearn's [GridSearchCV](https://scikit-learn.org/stable/modules/generated/sklearn.model_selection.GridSearchCV.html). The `Gamma` hyperparameter controls the complexity of our model. We want to pick the best `Gamma` so that our model does a decent job in predicting while avoiding over-fitting. "
   ]
  },
  {
   "cell_type": "markdown",
   "metadata": {},
   "source": [
    "Below is our tuned, best performing model based on cross-validation score."
   ]
  },
  {
   "cell_type": "markdown",
   "metadata": {},
   "source": [
    "| Model Name | Hyperparameter - Gamma | Mean Fit Time |  Mean Scoring Time | Mean CV Score |\n",
    "|------------|------------------------|---------------|--------------------|---------------|\n",
    "|    SVR     |  0.0007000000000000001 | 43.80s | 11.40s |0.4700 |\n",
    "\n",
    "For a more detailed GridSearchCV result, see [this file](../results/hyper_param_search_result.csv)."
   ]
  },
  {
   "cell_type": "markdown",
   "metadata": {},
   "source": [
    "## VI. Predicting with Our Model <a class=\"anchor\" id=\"6\"></a>"
   ]
  },
  {
   "cell_type": "markdown",
   "metadata": {},
   "source": [
    "After finalizing our model, we tested it on our test set. \n",
    "\n",
    "#### 1. $R^2$, __RMSE__ Scores\n",
    "\n",
    "$R^2$ and RMSE (Root-mean-squared-error) are two common metrics for evaluating a regression model's accuracy. <br> \n",
    "\n",
    "- The obtained $R^2$ score for the test set is **0.5037**, which was comparable to, and even better than our validation score.\n",
    "- The RMSE score was 1.2861. This seems large because it means our predicted score can have a margin of error of over 1.2 points. "
   ]
  },
  {
   "cell_type": "markdown",
   "metadata": {},
   "source": [
    "#### 2. Prediction vs. True Ratings\n",
    "We have also created a scatterplot to compare our predicted ratings vs. the true ratings. "
   ]
  },
  {
   "cell_type": "code",
   "execution_count": 2,
   "metadata": {
    "jupyter": {
     "source_hidden": true
    }
   },
   "outputs": [
    {
     "data": {
      "text/html": [
       "<!DOCTYPE html>\n",
       "<html>\n",
       "<head>\n",
       "  <style>\n",
       "    .error {\n",
       "        color: red;\n",
       "    }\n",
       "  </style>\n",
       "  <script type=\"text/javascript\" src=\"https://cdn.jsdelivr.net/npm//vega@5\"></script>\n",
       "  <script type=\"text/javascript\" src=\"https://cdn.jsdelivr.net/npm//vega-lite@4.8.1\"></script>\n",
       "  <script type=\"text/javascript\" src=\"https://cdn.jsdelivr.net/npm//vega-embed@6\"></script>\n",
       "</head>\n",
       "<body>\n",
       "  <div id=\"vis\"></div>\n",
       "  <script>\n",
       "    (function(vegaEmbed) {\n",
       "      var spec = {\"config\": {\"view\": {\"continuousWidth\": 400, \"continuousHeight\": 300}}, \"layer\": [{\"data\": {\"name\": \"data-fd866fc2555149b83114713042768cc1\"}, \"mark\": \"line\", \"encoding\": {\"x\": {\"type\": \"quantitative\", \"field\": \"predict\"}, \"y\": {\"type\": \"quantitative\", \"field\": \"true\"}}}, {\"data\": {\"name\": \"data-fab16d158c91832726841eb1aec193d2\"}, \"mark\": {\"type\": \"point\", \"opacity\": 0.3}, \"encoding\": {\"x\": {\"type\": \"quantitative\", \"field\": \"predict\", \"title\": \"Predicted rating\"}, \"y\": {\"type\": \"quantitative\", \"field\": \"true\", \"title\": \"True rating\"}}, \"title\": \"Scatter plot of true and predicted rating\"}], \"$schema\": \"https://vega.github.io/schema/vega-lite/v4.8.1.json\", \"datasets\": {\"data-fd866fc2555149b83114713042768cc1\": [{\"predict\": 0.0, \"true\": 0.0}, {\"predict\": 10.0, \"true\": 10.0}], \"data-fab16d158c91832726841eb1aec193d2\": [{\"predict\": 4.223354308253414, \"true\": 5.0}, {\"predict\": 6.034747902021302, \"true\": 5.300000000000002}, {\"predict\": 5.177055149588144, \"true\": 4.699999999999998}, {\"predict\": 5.620788267485906, \"true\": 7.0}, {\"predict\": 5.327474969259402, \"true\": 5.9}, {\"predict\": 3.548318391049891, \"true\": 3.0}, {\"predict\": 4.820784178269269, \"true\": 5.0}, {\"predict\": 6.984800720297709, \"true\": 6.0}, {\"predict\": 4.1973270583685025, \"true\": 4.0}, {\"predict\": 6.911017913616699, \"true\": 8.0}, {\"predict\": 5.258612954447215, \"true\": 6.1}, {\"predict\": 5.938266429164403, \"true\": 6.0}, {\"predict\": 4.673564340415123, \"true\": 3.0}, {\"predict\": 7.622236740184389, \"true\": 8.6}, {\"predict\": 4.452505460909245, \"true\": 4.0}, {\"predict\": 6.5122539880828, \"true\": 6.0}, {\"predict\": 4.6688502851685225, \"true\": 5.0}, {\"predict\": 6.387501441507236, \"true\": 6.6000000000000005}, {\"predict\": 5.440346698044948, \"true\": 3.0}, {\"predict\": 4.362443415064874, \"true\": 6.0}, {\"predict\": 5.96131078258098, \"true\": 7.3}, {\"predict\": 3.7209496963267314, \"true\": 3.0}, {\"predict\": 5.794997385620025, \"true\": 5.0}, {\"predict\": 7.503329050989393, \"true\": 9.0}, {\"predict\": 4.599195014318009, \"true\": 5.0}, {\"predict\": 5.642909176347969, \"true\": 5.0}, {\"predict\": 5.463094407424048, \"true\": 4.0}, {\"predict\": 5.643357246305014, \"true\": 6.0}, {\"predict\": 3.3879803274882603, \"true\": 3.0}, {\"predict\": 4.476509629848157, \"true\": 2.0}, {\"predict\": 4.47501447804129, \"true\": 4.0}, {\"predict\": 5.0210420409983545, \"true\": 2.0}, {\"predict\": 7.262719944102193, \"true\": 8.0}, {\"predict\": 5.8095900375795315, \"true\": 6.6000000000000005}, {\"predict\": 4.521893397604449, \"true\": 4.0}, {\"predict\": 5.918980722381685, \"true\": 6.0}, {\"predict\": 6.1001796313617245, \"true\": 4.5}, {\"predict\": 4.367623471717673, \"true\": 4.0}, {\"predict\": 5.139843820299806, \"true\": 3.0}, {\"predict\": 7.273659024046393, \"true\": 8.0}, {\"predict\": 7.63520056653431, \"true\": 7.0}, {\"predict\": 6.8401876016457575, \"true\": 7.5}, {\"predict\": 6.70986911306114, \"true\": 7.0}, {\"predict\": 6.651023712045767, \"true\": 7.0}, {\"predict\": 5.397389361590147, \"true\": 6.0}, {\"predict\": 5.747890470425528, \"true\": 7.0}, {\"predict\": 6.120999993180056, \"true\": 6.0}, {\"predict\": 7.301091369728738, \"true\": 9.0}, {\"predict\": 4.6047999693452955, \"true\": 2.0}, {\"predict\": 8.29348379098182, \"true\": 8.7}, {\"predict\": 5.500607639083723, \"true\": 6.3}, {\"predict\": 5.871748390233066, \"true\": 7.0}, {\"predict\": 6.84788114041406, \"true\": 7.0}, {\"predict\": 5.1025061825838245, \"true\": 5.0}, {\"predict\": 4.789404531601649, \"true\": 3.0}, {\"predict\": 6.580110739984603, \"true\": 7.800000000000002}, {\"predict\": 5.931790894350119, \"true\": 6.0}, {\"predict\": 5.939428981240565, \"true\": 9.0}, {\"predict\": 7.856980149718129, \"true\": 8.0}, {\"predict\": 5.3841289562225425, \"true\": 6.0}, {\"predict\": 8.011683442993181, \"true\": 9.4}, {\"predict\": 3.9286382015401107, \"true\": 4.0}, {\"predict\": 5.622968616069643, \"true\": 4.0}, {\"predict\": 6.13560622253674, \"true\": 5.0}, {\"predict\": 5.6492069233633, \"true\": 5.699999999999998}, {\"predict\": 6.525725848030963, \"true\": 5.0}, {\"predict\": 5.8258943097823845, \"true\": 7.0}, {\"predict\": 6.413426187196775, \"true\": 6.0}, {\"predict\": 5.719367302169959, \"true\": 4.0}, {\"predict\": 6.30103718387107, \"true\": 9.0}, {\"predict\": 6.1147403773365685, \"true\": 5.2}, {\"predict\": 5.670076949609102, \"true\": 5.0}, {\"predict\": 4.991578592121793, \"true\": 5.0}, {\"predict\": 5.2090096396036465, \"true\": 4.0}, {\"predict\": 6.058962543806466, \"true\": 5.0}, {\"predict\": 5.289869919455316, \"true\": 6.0}, {\"predict\": 4.4458397114835275, \"true\": 4.0}, {\"predict\": 5.6637946681599365, \"true\": 6.0}, {\"predict\": 4.7186033618488255, \"true\": 7.0}, {\"predict\": 6.862524637287038, \"true\": 8.0}, {\"predict\": 6.666109450057526, \"true\": 5.0}, {\"predict\": 6.525860627073653, \"true\": 5.0}, {\"predict\": 4.54414028553656, \"true\": 3.0}, {\"predict\": 6.142866479388571, \"true\": 7.0}, {\"predict\": 6.963223720793385, \"true\": 7.0}, {\"predict\": 4.379468164760429, \"true\": 3.0}, {\"predict\": 4.972461612249619, \"true\": 4.0}, {\"predict\": 5.824313089421809, \"true\": 4.0}, {\"predict\": 6.211449661946109, \"true\": 6.0}, {\"predict\": 6.910929799170755, \"true\": 7.1}, {\"predict\": 4.709632668197042, \"true\": 5.0}, {\"predict\": 7.006738943592486, \"true\": 7.0}, {\"predict\": 5.057562233133696, \"true\": 3.0}, {\"predict\": 6.395399911769416, \"true\": 8.0}, {\"predict\": 6.058075802774266, \"true\": 9.0}, {\"predict\": 7.665976639954214, \"true\": 7.0}, {\"predict\": 7.608296977828958, \"true\": 8.0}, {\"predict\": 6.095707304222275, \"true\": 5.0}, {\"predict\": 5.942027276895921, \"true\": 7.0}, {\"predict\": 5.2163304967357025, \"true\": 6.0}, {\"predict\": 5.071119822512143, \"true\": 3.0}, {\"predict\": 7.385555593976164, \"true\": 8.0}, {\"predict\": 6.679850362599355, \"true\": 8.0}, {\"predict\": 6.4303039690890005, \"true\": 7.0}, {\"predict\": 4.4899265175319725, \"true\": 3.0}, {\"predict\": 6.317203128860405, \"true\": 4.0}, {\"predict\": 6.342827441943458, \"true\": 7.7}, {\"predict\": 5.228900812680653, \"true\": 7.0}, {\"predict\": 7.070015431498138, \"true\": 7.0}, {\"predict\": 4.560065852121294, \"true\": 3.0}, {\"predict\": 8.11219791864371, \"true\": 8.0}, {\"predict\": 5.664154461891955, \"true\": 7.0}, {\"predict\": 5.398788406927973, \"true\": 8.0}, {\"predict\": 5.034584884061763, \"true\": 5.699999999999998}, {\"predict\": 5.442970642381452, \"true\": 4.4}, {\"predict\": 5.063061493288915, \"true\": 5.0}, {\"predict\": 5.195198306913776, \"true\": 6.0}, {\"predict\": 6.928717059238529, \"true\": 8.0}, {\"predict\": 4.917605069901007, \"true\": 5.0}, {\"predict\": 5.149693420396163, \"true\": 7.0}, {\"predict\": 4.885858592549235, \"true\": 8.0}, {\"predict\": 6.737060822147739, \"true\": 8.0}, {\"predict\": 7.348174678793355, \"true\": 8.0}, {\"predict\": 5.5543067076661, \"true\": 5.0}, {\"predict\": 5.645656587744827, \"true\": 7.0}, {\"predict\": 3.304742138795304, \"true\": 1.0}, {\"predict\": 7.306206659261407, \"true\": 9.1}, {\"predict\": 6.711729603276232, \"true\": 8.0}, {\"predict\": 5.43484522645251, \"true\": 6.0}, {\"predict\": 3.9520595855925715, \"true\": 3.0}, {\"predict\": 7.031481127551438, \"true\": 8.0}, {\"predict\": 5.561197778058901, \"true\": 6.0}, {\"predict\": 6.39879692749405, \"true\": 8.0}, {\"predict\": 5.5333606696867506, \"true\": 4.0}, {\"predict\": 5.500799325380612, \"true\": 4.0}, {\"predict\": 4.618059883466759, \"true\": 2.0}, {\"predict\": 8.632471219635296, \"true\": 9.5}, {\"predict\": 6.61963314175825, \"true\": 7.0}, {\"predict\": 3.9527208321172926, \"true\": 2.0}, {\"predict\": 6.94227603347295, \"true\": 9.0}, {\"predict\": 6.353945581520556, \"true\": 7.0}, {\"predict\": 4.653095760046776, \"true\": 3.0}, {\"predict\": 5.341729278514203, \"true\": 6.0}, {\"predict\": 5.978415905552599, \"true\": 5.0}, {\"predict\": 7.148293153518522, \"true\": 8.0}, {\"predict\": 6.279412720237128, \"true\": 6.0}, {\"predict\": 5.514544541687478, \"true\": 6.0}, {\"predict\": 4.658377026720946, \"true\": 3.0}, {\"predict\": 5.857826922768316, \"true\": 4.0}, {\"predict\": 4.014613487269351, \"true\": 3.0}, {\"predict\": 4.529545296284212, \"true\": 4.0}, {\"predict\": 4.635791799843258, \"true\": 3.0}, {\"predict\": 3.966933919238214, \"true\": 3.0}, {\"predict\": 6.194603095734572, \"true\": 6.0}, {\"predict\": 5.737203534197834, \"true\": 6.0}, {\"predict\": 6.313497998218072, \"true\": 6.5}, {\"predict\": 5.668867673838613, \"true\": 3.0}, {\"predict\": 4.060033486029063, \"true\": 3.0}, {\"predict\": 6.6799139889800685, \"true\": 6.5}, {\"predict\": 6.878656697309903, \"true\": 7.0}, {\"predict\": 4.539814755912998, \"true\": 2.0}, {\"predict\": 5.071115165872694, \"true\": 4.0}, {\"predict\": 5.999586698386, \"true\": 7.0}, {\"predict\": 6.702820782676501, \"true\": 7.0}, {\"predict\": 7.9069715688953774, \"true\": 8.0}, {\"predict\": 4.193141943166643, \"true\": 4.0}, {\"predict\": 4.996544021289523, \"true\": 4.0}, {\"predict\": 7.391846175069528, \"true\": 7.0}, {\"predict\": 5.825518927765723, \"true\": 5.0}, {\"predict\": 5.275331088331529, \"true\": 1.0}, {\"predict\": 6.871790233474441, \"true\": 6.0}, {\"predict\": 5.435782916531046, \"true\": 5.0}, {\"predict\": 4.962313039989918, \"true\": 3.0}, {\"predict\": 5.70334426862461, \"true\": 5.0}, {\"predict\": 7.350262439077835, \"true\": 9.0}, {\"predict\": 5.811499280438987, \"true\": 3.5}, {\"predict\": 4.9445947567195265, \"true\": 3.0}, {\"predict\": 5.345683894167218, \"true\": 5.0}, {\"predict\": 6.625479724670608, \"true\": 4.8}, {\"predict\": 4.8001563782245, \"true\": 2.0}, {\"predict\": 7.804392914408833, \"true\": 7.0}, {\"predict\": 5.200328372432455, \"true\": 5.0}, {\"predict\": 5.236306797024167, \"true\": 4.0}, {\"predict\": 5.328342581522396, \"true\": 6.6000000000000005}, {\"predict\": 5.619623587503421, \"true\": 6.0}, {\"predict\": 5.513229725106596, \"true\": 7.0}, {\"predict\": 5.330007394464299, \"true\": 3.0}, {\"predict\": 6.246833125566614, \"true\": 4.0}, {\"predict\": 5.921621352182521, \"true\": 6.0}, {\"predict\": 5.405609523331971, \"true\": 5.4}, {\"predict\": 6.618557472916282, \"true\": 7.0}, {\"predict\": 6.498354433551077, \"true\": 7.0}, {\"predict\": 4.125966540185814, \"true\": 4.0}, {\"predict\": 7.1525275964415, \"true\": 7.0}, {\"predict\": 5.855843414418534, \"true\": 7.0}, {\"predict\": 4.530396241754819, \"true\": 6.0}, {\"predict\": 4.673300537834534, \"true\": 7.0}, {\"predict\": 7.664609237621671, \"true\": 8.0}, {\"predict\": 6.822136703030992, \"true\": 7.0}, {\"predict\": 4.657934687119864, \"true\": 2.0}, {\"predict\": 6.391367831524848, \"true\": 8.0}, {\"predict\": 5.282120188882869, \"true\": 4.0}, {\"predict\": 5.1157593809007, \"true\": 5.0}, {\"predict\": 6.433162920597791, \"true\": 6.0}, {\"predict\": 7.671317590408772, \"true\": 7.5}, {\"predict\": 5.685603539544911, \"true\": 6.5}, {\"predict\": 5.773295043979722, \"true\": 6.0}, {\"predict\": 6.281866743193682, \"true\": 8.0}, {\"predict\": 4.102168198341218, \"true\": 3.0}, {\"predict\": 5.303434957885177, \"true\": 8.0}, {\"predict\": 6.260376704102372, \"true\": 6.0}, {\"predict\": 5.5897639957379575, \"true\": 6.0}, {\"predict\": 3.820195125727081, \"true\": 4.0}, {\"predict\": 4.748025979026138, \"true\": 2.0}, {\"predict\": 5.861923097681971, \"true\": 7.0}, {\"predict\": 5.4753009520792935, \"true\": 3.0}, {\"predict\": 4.759293206441035, \"true\": 6.0}, {\"predict\": 6.436432937490711, \"true\": 6.0}, {\"predict\": 8.135362348892441, \"true\": 8.0}, {\"predict\": 7.512841236945318, \"true\": 6.7}, {\"predict\": 4.786375564358353, \"true\": 3.3000000000000003}, {\"predict\": 6.100002338373569, \"true\": 6.0}, {\"predict\": 6.196432929634159, \"true\": 6.6000000000000005}, {\"predict\": 5.140910197526099, \"true\": 5.0}, {\"predict\": 5.445329092128031, \"true\": 3.0}, {\"predict\": 5.5338862599382805, \"true\": 5.0}, {\"predict\": 4.819003893603294, \"true\": 3.0}, {\"predict\": 6.690766104826126, \"true\": 10.0}, {\"predict\": 6.0053164380388075, \"true\": 8.0}, {\"predict\": 5.459248802530844, \"true\": 5.0}, {\"predict\": 6.1104709718663255, \"true\": 7.0}, {\"predict\": 6.618161257602336, \"true\": 8.0}, {\"predict\": 4.741273480787175, \"true\": 5.0}, {\"predict\": 7.4806498012966705, \"true\": 8.0}, {\"predict\": 4.565376702235236, \"true\": 3.0}, {\"predict\": 4.859386259167027, \"true\": 4.0}, {\"predict\": 6.503426843885467, \"true\": 8.0}, {\"predict\": 5.494725140775201, \"true\": 4.0}, {\"predict\": 4.996111891195104, \"true\": 6.0}, {\"predict\": 7.279442013349315, \"true\": 7.0}, {\"predict\": 5.143121169085838, \"true\": 6.0}, {\"predict\": 6.367143006054451, \"true\": 7.0}, {\"predict\": 6.31716488265795, \"true\": 4.0}, {\"predict\": 6.003932781940918, \"true\": 6.0}, {\"predict\": 4.582843607748073, \"true\": 5.0}, {\"predict\": 5.8448055112246795, \"true\": 7.0}, {\"predict\": 4.714538730030048, \"true\": 6.6000000000000005}, {\"predict\": 6.993284299110185, \"true\": 8.0}, {\"predict\": 6.293552687177652, \"true\": 8.0}, {\"predict\": 5.192224563875964, \"true\": 6.0}, {\"predict\": 4.5000008228984605, \"true\": 7.0}, {\"predict\": 6.8163224708647245, \"true\": 8.0}, {\"predict\": 6.558777812171803, \"true\": 7.0}, {\"predict\": 5.4402896299663634, \"true\": 5.0}, {\"predict\": 4.126293867423778, \"true\": 1.0}, {\"predict\": 5.192552637545546, \"true\": 3.0}, {\"predict\": 4.41454692225916, \"true\": 7.0}, {\"predict\": 6.634066382751, \"true\": 6.0}, {\"predict\": 6.492696004684335, \"true\": 5.0}, {\"predict\": 4.933022849172689, \"true\": 5.0}, {\"predict\": 5.985696129246669, \"true\": 5.9}, {\"predict\": 6.281898744845909, \"true\": 5.0}, {\"predict\": 4.29789596950822, \"true\": 0.0}, {\"predict\": 4.616727261188158, \"true\": 3.0}, {\"predict\": 6.024558484462359, \"true\": 8.0}, {\"predict\": 4.876033868358218, \"true\": 4.0}, {\"predict\": 6.4777178291748925, \"true\": 6.0}, {\"predict\": 6.798422050079669, \"true\": 3.0}, {\"predict\": 5.875822872526025, \"true\": 9.0}, {\"predict\": 4.655442632379783, \"true\": 4.0}, {\"predict\": 6.455986398028643, \"true\": 7.0}, {\"predict\": 6.203859446325607, \"true\": 8.0}, {\"predict\": 5.322437348194905, \"true\": 3.3000000000000003}, {\"predict\": 6.9750891215163255, \"true\": 7.800000000000002}, {\"predict\": 6.111049480305816, \"true\": 7.0}, {\"predict\": 5.017895785024546, \"true\": 5.0}, {\"predict\": 5.076608310554324, \"true\": 5.0}, {\"predict\": 7.232674800951106, \"true\": 8.0}, {\"predict\": 6.5732461141975325, \"true\": 5.5}, {\"predict\": 6.541199942675525, \"true\": 7.0}, {\"predict\": 5.699345989666344, \"true\": 6.0}, {\"predict\": 5.744139474226584, \"true\": 6.0}, {\"predict\": 7.1203260215781015, \"true\": 7.7}, {\"predict\": 5.454130960681571, \"true\": 6.0}, {\"predict\": 6.4252857475301335, \"true\": 8.0}, {\"predict\": 5.424346946220182, \"true\": 7.0}, {\"predict\": 8.017786030465118, \"true\": 8.0}, {\"predict\": 4.692583272550593, \"true\": 5.0}, {\"predict\": 4.717991076159979, \"true\": 4.0}, {\"predict\": 6.233354608566618, \"true\": 5.0}, {\"predict\": 5.1259797715842055, \"true\": 7.0}, {\"predict\": 6.706467257581149, \"true\": 8.0}, {\"predict\": 5.3422932293408705, \"true\": 6.0}, {\"predict\": 4.8210898023588085, \"true\": 3.5}, {\"predict\": 6.742614553783872, \"true\": 9.0}, {\"predict\": 4.981213672640301, \"true\": 3.0}, {\"predict\": 5.112324298870286, \"true\": 5.0}, {\"predict\": 6.487924402079106, \"true\": 6.0}, {\"predict\": 5.929011895047507, \"true\": 6.0}, {\"predict\": 6.4966850624457715, \"true\": 6.0}, {\"predict\": 4.1589292907141235, \"true\": 5.0}, {\"predict\": 8.082599881733417, \"true\": 8.0}, {\"predict\": 6.134241040022587, \"true\": 7.0}, {\"predict\": 6.037318034754034, \"true\": 7.0}, {\"predict\": 4.078822581794144, \"true\": 6.0}, {\"predict\": 4.699174672002692, \"true\": 5.0}, {\"predict\": 6.5230457347559465, \"true\": 5.0}, {\"predict\": 7.68635737738448, \"true\": 8.0}, {\"predict\": 4.85042258981453, \"true\": 4.0}, {\"predict\": 4.929654918132304, \"true\": 5.0}, {\"predict\": 5.687809879433744, \"true\": 6.0}, {\"predict\": 3.9730897974041226, \"true\": 5.0}, {\"predict\": 7.898361795375169, \"true\": 8.0}, {\"predict\": 6.386426797599895, \"true\": 7.9}, {\"predict\": 5.749874649187902, \"true\": 7.0}, {\"predict\": 4.68970574881735, \"true\": 6.0}, {\"predict\": 4.92526619103308, \"true\": 6.0}, {\"predict\": 6.9133849391085604, \"true\": 9.0}, {\"predict\": 5.9944341043876355, \"true\": 5.6000000000000005}, {\"predict\": 7.159340408633927, \"true\": 8.0}, {\"predict\": 4.519416525318535, \"true\": 5.0}, {\"predict\": 5.022111835331516, \"true\": 5.0}, {\"predict\": 8.015261248423645, \"true\": 7.0}, {\"predict\": 5.819269702390074, \"true\": 4.0}, {\"predict\": 5.962322399803249, \"true\": 7.0}, {\"predict\": 5.79468350729685, \"true\": 7.0}, {\"predict\": 4.739641542193214, \"true\": 4.0}, {\"predict\": 7.574288793663289, \"true\": 8.0}, {\"predict\": 5.529698044743757, \"true\": 6.0}, {\"predict\": 6.169150917843632, \"true\": 7.0}, {\"predict\": 5.647732210135203, \"true\": 6.0}, {\"predict\": 6.684089428388925, \"true\": 8.0}, {\"predict\": 6.3848298020091985, \"true\": 5.0}, {\"predict\": 4.339071525561007, \"true\": 6.0}, {\"predict\": 5.597686546508779, \"true\": 5.5}, {\"predict\": 7.679454460462273, \"true\": 8.0}, {\"predict\": 5.820600166722618, \"true\": 5.0}, {\"predict\": 7.594153097282823, \"true\": 7.5}, {\"predict\": 6.099927364889384, \"true\": 6.0}, {\"predict\": 6.40584504190309, \"true\": 8.0}, {\"predict\": 6.92776500196573, \"true\": 7.0}, {\"predict\": 5.316344346081203, \"true\": 5.0}, {\"predict\": 6.097238750181384, \"true\": 6.0}, {\"predict\": 8.101260850268686, \"true\": 8.5}, {\"predict\": 6.972324039178769, \"true\": 9.0}, {\"predict\": 6.189409105360672, \"true\": 7.0}, {\"predict\": 5.590432214528557, \"true\": 3.0}, {\"predict\": 5.720126192458019, \"true\": 7.0}, {\"predict\": 7.052849240776259, \"true\": 8.0}, {\"predict\": 5.616276902605888, \"true\": 6.0}, {\"predict\": 3.686747075736289, \"true\": 3.0}, {\"predict\": 6.832688823905446, \"true\": 7.7}, {\"predict\": 5.064055485100967, \"true\": 4.0}, {\"predict\": 6.630752560244445, \"true\": 7.0}, {\"predict\": 4.875120722810522, \"true\": 5.0}, {\"predict\": 4.6121491672303385, \"true\": 5.0}, {\"predict\": 4.7107399452068375, \"true\": 4.0}, {\"predict\": 7.107401753285872, \"true\": 9.2}, {\"predict\": 4.837989591106158, \"true\": 4.0}, {\"predict\": 6.353580083253016, \"true\": 5.0}, {\"predict\": 5.119036059415989, \"true\": 4.0}, {\"predict\": 5.819315134448586, \"true\": 6.0}, {\"predict\": 4.9414956530173715, \"true\": 4.0}, {\"predict\": 5.6123524225747285, \"true\": 5.0}, {\"predict\": 4.913673087654306, \"true\": 3.5}, {\"predict\": 5.228863024157977, \"true\": 7.0}, {\"predict\": 5.99276517788639, \"true\": 7.0}, {\"predict\": 5.764973734549454, \"true\": 8.0}, {\"predict\": 5.220143746825649, \"true\": 5.0}, {\"predict\": 5.337749068269092, \"true\": 3.0}, {\"predict\": 4.61136561339729, \"true\": 4.0}, {\"predict\": 5.724263731170286, \"true\": 5.0}, {\"predict\": 6.750035917527637, \"true\": 6.0}, {\"predict\": 4.783280261813333, \"true\": 3.0}, {\"predict\": 7.428986759123407, \"true\": 8.0}, {\"predict\": 6.295836101334604, \"true\": 7.0}, {\"predict\": 5.512371192910788, \"true\": 5.0}, {\"predict\": 6.062369952428792, \"true\": 6.0}, {\"predict\": 6.274418414239504, \"true\": 6.0}, {\"predict\": 6.022315713795672, \"true\": 5.9}, {\"predict\": 6.397425161294364, \"true\": 7.0}, {\"predict\": 3.9411338258275066, \"true\": 3.0}, {\"predict\": 6.131052399982355, \"true\": 6.0}, {\"predict\": 5.513710631420265, \"true\": 4.0}, {\"predict\": 7.080978810019045, \"true\": 8.0}, {\"predict\": 6.219038129935695, \"true\": 7.0}, {\"predict\": 5.8551489756659745, \"true\": 5.0}, {\"predict\": 5.9890305903735035, \"true\": 8.0}, {\"predict\": 5.376343863727676, \"true\": 6.0}, {\"predict\": 6.316077604235631, \"true\": 5.5}, {\"predict\": 5.277627134959742, \"true\": 6.0}, {\"predict\": 7.11715539681808, \"true\": 7.5}, {\"predict\": 5.856397841379606, \"true\": 7.5}, {\"predict\": 4.914255890870647, \"true\": 7.0}, {\"predict\": 5.786219855509478, \"true\": 7.0}, {\"predict\": 5.268000764060563, \"true\": 4.0}, {\"predict\": 6.852846364481573, \"true\": 8.0}, {\"predict\": 5.404464131268128, \"true\": 5.0}, {\"predict\": 5.50973971238254, \"true\": 6.0}, {\"predict\": 5.820330067514039, \"true\": 5.0}, {\"predict\": 5.4594170831517825, \"true\": 6.0}, {\"predict\": 4.053020668035968, \"true\": 4.0}, {\"predict\": 4.6636202331871655, \"true\": 5.0}, {\"predict\": 6.900430874409904, \"true\": 7.0}, {\"predict\": 6.859119397592319, \"true\": 7.0}, {\"predict\": 6.7834367526490755, \"true\": 8.0}, {\"predict\": 7.654830881116498, \"true\": 8.0}, {\"predict\": 6.171745923747299, \"true\": 8.0}, {\"predict\": 4.3145544272719905, \"true\": 3.0}, {\"predict\": 5.0913640681877155, \"true\": 5.0}, {\"predict\": 4.664735844805552, \"true\": 1.0}, {\"predict\": 6.930181453183244, \"true\": 7.0}, {\"predict\": 6.824090189177873, \"true\": 9.1}, {\"predict\": 7.473902665830404, \"true\": 7.5}, {\"predict\": 5.375442191415965, \"true\": 6.0}, {\"predict\": 7.35354326005639, \"true\": 7.0}, {\"predict\": 4.6640143491721835, \"true\": 4.0}, {\"predict\": 5.577296117905474, \"true\": 5.0}, {\"predict\": 5.280351641082014, \"true\": 4.0}, {\"predict\": 7.145902657803639, \"true\": 9.0}, {\"predict\": 4.964467334784008, \"true\": 7.0}, {\"predict\": 8.359842571119813, \"true\": 9.0}, {\"predict\": 7.3759260840578635, \"true\": 7.1}, {\"predict\": 5.356516563938203, \"true\": 6.0}, {\"predict\": 5.145125893832342, \"true\": 4.0}, {\"predict\": 4.938995216217288, \"true\": 2.0}, {\"predict\": 5.751094266097207, \"true\": 5.8}, {\"predict\": 5.2639179311849915, \"true\": 4.0}, {\"predict\": 7.3708038390177695, \"true\": 7.0}, {\"predict\": 7.997580272896216, \"true\": 8.5}, {\"predict\": 8.355439930707863, \"true\": 9.0}, {\"predict\": 5.498792904180656, \"true\": 5.0}, {\"predict\": 7.154890030924363, \"true\": 7.0}, {\"predict\": 4.9051950283575465, \"true\": 5.0}, {\"predict\": 4.529969871572392, \"true\": 4.0}, {\"predict\": 5.355655937256793, \"true\": 2.0}, {\"predict\": 5.560875986941985, \"true\": 5.0}, {\"predict\": 4.428737401230404, \"true\": 2.8000000000000003}, {\"predict\": 5.591086616951381, \"true\": 6.0}, {\"predict\": 5.990550229215133, \"true\": 6.0}, {\"predict\": 4.6906970253530735, \"true\": 6.0}, {\"predict\": 6.889020010467651, \"true\": 7.0}, {\"predict\": 6.098166872843851, \"true\": 6.0}, {\"predict\": 5.494958505923503, \"true\": 6.0}, {\"predict\": 7.289115633907729, \"true\": 7.0}, {\"predict\": 7.387362931608645, \"true\": 9.0}, {\"predict\": 5.696703928623993, \"true\": 7.0}, {\"predict\": 5.304467695938145, \"true\": 5.0}, {\"predict\": 5.751860395395415, \"true\": 6.0}, {\"predict\": 7.789658806023534, \"true\": 7.0}, {\"predict\": 6.840729826366186, \"true\": 9.0}, {\"predict\": 6.859407233400137, \"true\": 6.0}, {\"predict\": 7.037072385270059, \"true\": 6.0}, {\"predict\": 5.847345742990529, \"true\": 5.0}, {\"predict\": 6.570457877263569, \"true\": 7.0}, {\"predict\": 6.945150127385329, \"true\": 8.0}, {\"predict\": 4.713114934074865, \"true\": 2.0}, {\"predict\": 6.1396978161586295, \"true\": 6.0}, {\"predict\": 6.560269693242267, \"true\": 6.0}, {\"predict\": 3.6296333058140715, \"true\": 3.0}, {\"predict\": 4.206222776304405, \"true\": 5.0}, {\"predict\": 4.186794812616078, \"true\": 2.0}, {\"predict\": 7.851778397662315, \"true\": 8.0}, {\"predict\": 6.172158330859956, \"true\": 6.0}, {\"predict\": 5.250553443767363, \"true\": 3.0}, {\"predict\": 4.3512826021223034, \"true\": 4.0}, {\"predict\": 3.80383399829821, \"true\": 5.0}, {\"predict\": 6.666307770545921, \"true\": 7.0}, {\"predict\": 7.049922021384383, \"true\": 8.0}, {\"predict\": 5.812558177909641, \"true\": 7.800000000000002}, {\"predict\": 6.433339746051844, \"true\": 5.0}, {\"predict\": 5.647028761360426, \"true\": 8.0}, {\"predict\": 7.523676535605799, \"true\": 8.0}, {\"predict\": 4.333921631358856, \"true\": 2.0}, {\"predict\": 5.589860057829018, \"true\": 5.0}, {\"predict\": 7.250618357651334, \"true\": 7.0}, {\"predict\": 3.9906735196934324, \"true\": 7.0}, {\"predict\": 6.393612141412982, \"true\": 8.0}, {\"predict\": 7.09929434099281, \"true\": 6.0}, {\"predict\": 5.606226221098995, \"true\": 7.0}, {\"predict\": 6.3114348996264065, \"true\": 6.0}, {\"predict\": 5.493531506872351, \"true\": 6.0}, {\"predict\": 7.245221390985397, \"true\": 8.0}, {\"predict\": 5.591272659208888, \"true\": 7.0}, {\"predict\": 5.443246371299246, \"true\": 4.0}, {\"predict\": 5.390153313562369, \"true\": 5.0}, {\"predict\": 4.616749883508756, \"true\": 7.0}, {\"predict\": 5.244397144556684, \"true\": 4.0}, {\"predict\": 4.5977215425353455, \"true\": 5.5}, {\"predict\": 5.7172959067776485, \"true\": 5.0}, {\"predict\": 5.527481336278872, \"true\": 6.0}, {\"predict\": 5.8026339369237, \"true\": 4.0}, {\"predict\": 5.621245558612688, \"true\": 7.0}, {\"predict\": 6.080836318503145, \"true\": 5.0}, {\"predict\": 5.691031798269174, \"true\": 5.0}, {\"predict\": 6.007851759243263, \"true\": 6.0}, {\"predict\": 5.548338265427438, \"true\": 7.0}, {\"predict\": 7.032515422200358, \"true\": 6.0}, {\"predict\": 4.483577758029702, \"true\": 4.0}, {\"predict\": 5.515164709176579, \"true\": 6.0}, {\"predict\": 5.852941446265234, \"true\": 5.0}, {\"predict\": 5.28622040983497, \"true\": 3.0}, {\"predict\": 4.965052723895829, \"true\": 6.0}, {\"predict\": 6.862588250219661, \"true\": 7.800000000000002}, {\"predict\": 7.487418091057271, \"true\": 8.0}, {\"predict\": 5.336127293233568, \"true\": 3.0}, {\"predict\": 3.7159874677506504, \"true\": 3.0}, {\"predict\": 6.650626510033756, \"true\": 7.0}, {\"predict\": 5.871655907570078, \"true\": 9.0}, {\"predict\": 5.77964941772999, \"true\": 8.0}, {\"predict\": 5.685048810303972, \"true\": 6.0}, {\"predict\": 7.348246035992215, \"true\": 7.0}, {\"predict\": 4.35666595713187, \"true\": 2.0}, {\"predict\": 5.771252122258748, \"true\": 6.0}, {\"predict\": 5.790362977358573, \"true\": 7.0}, {\"predict\": 5.5636616829380126, \"true\": 3.0}, {\"predict\": 6.868654319198786, \"true\": 7.0}, {\"predict\": 4.896593017223214, \"true\": 3.0}, {\"predict\": 4.865594391766406, \"true\": 3.0}, {\"predict\": 6.04850189551947, \"true\": 7.0}, {\"predict\": 5.961769009967302, \"true\": 5.0}, {\"predict\": 5.292365612591198, \"true\": 5.0}, {\"predict\": 5.2946963507395015, \"true\": 7.0}, {\"predict\": 6.292019460201845, \"true\": 8.0}, {\"predict\": 6.278475259180341, \"true\": 6.0}, {\"predict\": 4.70500198213735, \"true\": 3.0}, {\"predict\": 5.393936620191952, \"true\": 5.0}, {\"predict\": 6.318971559508346, \"true\": 5.0}, {\"predict\": 5.4711107949609135, \"true\": 6.0}, {\"predict\": 5.275015333219459, \"true\": 4.0}, {\"predict\": 8.619219790122575, \"true\": 9.4}, {\"predict\": 6.408559903595319, \"true\": 7.0}, {\"predict\": 5.9020345207331335, \"true\": 5.0}, {\"predict\": 4.9217647805579166, \"true\": 6.0}, {\"predict\": 5.058223336476634, \"true\": 2.5}, {\"predict\": 6.981001339056597, \"true\": 5.0}, {\"predict\": 7.001351933544004, \"true\": 5.0}, {\"predict\": 7.287898488760378, \"true\": 8.8}, {\"predict\": 4.616490152616903, \"true\": 5.0}, {\"predict\": 6.062795048202722, \"true\": 6.0}, {\"predict\": 7.798763121788825, \"true\": 8.0}, {\"predict\": 7.6593501548389105, \"true\": 7.0}, {\"predict\": 5.513274419616502, \"true\": 6.0}, {\"predict\": 4.551194494713539, \"true\": 4.0}, {\"predict\": 6.129440342931578, \"true\": 5.0}, {\"predict\": 6.154160200869217, \"true\": 7.0}, {\"predict\": 4.009172244046191, \"true\": 3.0}, {\"predict\": 4.81386998066721, \"true\": 3.0}, {\"predict\": 5.719330123046338, \"true\": 4.0}, {\"predict\": 6.19382572737684, \"true\": 6.0}, {\"predict\": 4.083114718181383, \"true\": 1.0}, {\"predict\": 4.849170613263057, \"true\": 2.0}, {\"predict\": 6.983066232510302, \"true\": 8.0}, {\"predict\": 6.18484131529038, \"true\": 6.0}, {\"predict\": 5.880829748418428, \"true\": 5.0}, {\"predict\": 6.5561873260481995, \"true\": 9.0}, {\"predict\": 5.667610890360636, \"true\": 6.0}, {\"predict\": 6.124979886895359, \"true\": 8.0}, {\"predict\": 6.094270840492676, \"true\": 6.0}, {\"predict\": 5.414944507754691, \"true\": 4.0}, {\"predict\": 8.117568279833522, \"true\": 9.0}, {\"predict\": 7.015356774405017, \"true\": 8.5}, {\"predict\": 7.2641727619949235, \"true\": 7.7}, {\"predict\": 4.5965148814590755, \"true\": 6.0}, {\"predict\": 4.407304686705484, \"true\": 5.0}, {\"predict\": 5.493113276067644, \"true\": 5.5}, {\"predict\": 6.937934910516617, \"true\": 7.0}, {\"predict\": 5.291503523876775, \"true\": 5.8}, {\"predict\": 5.815238795709473, \"true\": 4.0}, {\"predict\": 6.2867128328338024, \"true\": 5.0}, {\"predict\": 5.709180911380924, \"true\": 4.0}, {\"predict\": 5.953383850633571, \"true\": 6.0}, {\"predict\": 4.68870399580445, \"true\": 4.4}, {\"predict\": 4.530686852267289, \"true\": 6.0}, {\"predict\": 5.91024539525408, \"true\": 6.0}, {\"predict\": 5.704767149481439, \"true\": 5.0}, {\"predict\": 5.011697551284821, \"true\": 4.0}, {\"predict\": 7.777873549933307, \"true\": 8.0}, {\"predict\": 5.847033201167495, \"true\": 6.0}, {\"predict\": 4.798822609104148, \"true\": 4.0}, {\"predict\": 5.53227247128468, \"true\": 7.0}, {\"predict\": 5.614784619001547, \"true\": 6.0}, {\"predict\": 6.050608037338462, \"true\": 6.5}, {\"predict\": 6.55470469942821, \"true\": 7.0}, {\"predict\": 6.730563787492134, \"true\": 8.0}, {\"predict\": 7.257865600347647, \"true\": 8.0}, {\"predict\": 4.6786183410773985, \"true\": 5.0}, {\"predict\": 7.385166003984356, \"true\": 7.5}, {\"predict\": 5.958553196852131, \"true\": 5.0}, {\"predict\": 6.268643405921484, \"true\": 9.0}, {\"predict\": 7.069689194342964, \"true\": 7.0}, {\"predict\": 5.856085921953571, \"true\": 9.0}, {\"predict\": 4.54570990964899, \"true\": 2.0}, {\"predict\": 7.300499294797339, \"true\": 7.0}, {\"predict\": 5.303851226671068, \"true\": 6.0}, {\"predict\": 7.314346313136399, \"true\": 7.0}, {\"predict\": 8.294013410821982, \"true\": 10.0}, {\"predict\": 6.455264959274768, \"true\": 7.0}, {\"predict\": 6.929799566855477, \"true\": 5.0}, {\"predict\": 5.1832123326722455, \"true\": 5.0}, {\"predict\": 3.922581387122188, \"true\": 3.0}, {\"predict\": 4.45923240323, \"true\": 5.0}, {\"predict\": 6.052737101724892, \"true\": 6.0}, {\"predict\": 4.757827912872255, \"true\": 5.0}, {\"predict\": 6.083377959330059, \"true\": 5.0}, {\"predict\": 5.133244350925057, \"true\": 2.0}, {\"predict\": 5.582800128420464, \"true\": 5.0}, {\"predict\": 7.6035107849045325, \"true\": 8.0}, {\"predict\": 5.217109566050952, \"true\": 5.0}, {\"predict\": 6.99505546983325, \"true\": 6.4}, {\"predict\": 5.287682401372766, \"true\": 4.0}, {\"predict\": 6.56256639679506, \"true\": 5.0}, {\"predict\": 5.68784039997593, \"true\": 5.0}, {\"predict\": 7.2750133263825525, \"true\": 6.0}, {\"predict\": 4.710259166431218, \"true\": 2.0}, {\"predict\": 4.2640852643044145, \"true\": 3.0}, {\"predict\": 6.6355148329920945, \"true\": 7.0}, {\"predict\": 5.168339362011716, \"true\": 6.0}, {\"predict\": 4.668750720215322, \"true\": 5.0}, {\"predict\": 7.50967814800586, \"true\": 7.5}, {\"predict\": 5.167578849589008, \"true\": 2.0}, {\"predict\": 5.443857890626353, \"true\": 4.0}, {\"predict\": 5.597725809619669, \"true\": 4.0}, {\"predict\": 5.93202391682691, \"true\": 6.0}, {\"predict\": 5.430600924884576, \"true\": 2.5}, {\"predict\": 5.126028681051549, \"true\": 6.0}, {\"predict\": 4.84350810158203, \"true\": 3.0}, {\"predict\": 6.142710980438766, \"true\": 7.0}, {\"predict\": 6.107313886143709, \"true\": 9.0}, {\"predict\": 6.5245429809019715, \"true\": 7.0}, {\"predict\": 6.18403147090809, \"true\": 6.0}, {\"predict\": 5.66125331014318, \"true\": 6.0}, {\"predict\": 5.976777097442768, \"true\": 5.0}, {\"predict\": 6.640326274112037, \"true\": 7.0}, {\"predict\": 5.622895829694219, \"true\": 6.0}, {\"predict\": 7.5678581604707755, \"true\": 8.0}, {\"predict\": 4.9318473393474145, \"true\": 2.6}, {\"predict\": 6.277944909012582, \"true\": 6.0}, {\"predict\": 5.169223838368692, \"true\": 7.0}, {\"predict\": 5.133410459902409, \"true\": 2.0}, {\"predict\": 5.6949892307593855, \"true\": 3.0}, {\"predict\": 6.698339051781614, \"true\": 5.5}, {\"predict\": 4.7926111194718795, \"true\": 4.0}, {\"predict\": 7.144360641198394, \"true\": 7.5}, {\"predict\": 5.724315380797935, \"true\": 5.0}, {\"predict\": 7.4885323628333005, \"true\": 9.5}, {\"predict\": 5.636491152173418, \"true\": 4.0}, {\"predict\": 7.036593520852269, \"true\": 9.0}, {\"predict\": 5.145298279755712, \"true\": 5.0}, {\"predict\": 6.405237604638411, \"true\": 6.5}, {\"predict\": 6.658225410059219, \"true\": 8.0}, {\"predict\": 6.051209190922348, \"true\": 7.0}, {\"predict\": 4.896654231568911, \"true\": 2.5}, {\"predict\": 6.372701548066922, \"true\": 7.0}, {\"predict\": 7.249657329810839, \"true\": 8.4}, {\"predict\": 5.771863398090499, \"true\": 5.0}, {\"predict\": 5.987900817389546, \"true\": 7.0}, {\"predict\": 6.129590240548048, \"true\": 7.0}, {\"predict\": 4.7270010727242, \"true\": 3.0}, {\"predict\": 4.875970436365337, \"true\": 4.0}, {\"predict\": 5.492960802930259, \"true\": 5.5}, {\"predict\": 7.281651432092177, \"true\": 8.0}, {\"predict\": 6.652050745461762, \"true\": 4.5}, {\"predict\": 7.079378744652142, \"true\": 7.3}, {\"predict\": 8.108819691598383, \"true\": 8.0}, {\"predict\": 5.929505592350335, \"true\": 7.0}, {\"predict\": 6.185321095467632, \"true\": 5.0}, {\"predict\": 6.024958077624556, \"true\": 5.0}, {\"predict\": 7.099204729438133, \"true\": 7.0}, {\"predict\": 5.673892890548911, \"true\": 5.0}, {\"predict\": 5.611579466235485, \"true\": 7.0}, {\"predict\": 6.437622933544295, \"true\": 6.0}, {\"predict\": 6.252961372490735, \"true\": 6.0}, {\"predict\": 6.068529371178846, \"true\": 7.0}, {\"predict\": 6.64079839864975, \"true\": 6.0}, {\"predict\": 6.176344402730593, \"true\": 7.0}, {\"predict\": 5.789416046449116, \"true\": 6.0}, {\"predict\": 6.4407261040365436, \"true\": 8.0}, {\"predict\": 6.435841156013414, \"true\": 8.0}, {\"predict\": 5.689691385402211, \"true\": 7.0}, {\"predict\": 7.461081012748508, \"true\": 7.9}, {\"predict\": 5.5083894242057365, \"true\": 6.0}, {\"predict\": 7.37778210413823, \"true\": 9.0}, {\"predict\": 5.13163152655949, \"true\": 7.0}, {\"predict\": 4.6008696144395405, \"true\": 4.0}, {\"predict\": 7.222625916643058, \"true\": 8.5}, {\"predict\": 3.828977780423772, \"true\": 4.0}, {\"predict\": 7.105081463615894, \"true\": 8.0}, {\"predict\": 6.36042629002823, \"true\": 6.0}, {\"predict\": 7.248126220705089, \"true\": 9.0}, {\"predict\": 5.261095739666627, \"true\": 5.0}, {\"predict\": 6.803171583216511, \"true\": 8.5}, {\"predict\": 6.066477932349486, \"true\": 7.0}, {\"predict\": 6.334331200292324, \"true\": 7.0}, {\"predict\": 4.150074876528005, \"true\": 4.0}, {\"predict\": 4.5348977361973635, \"true\": 3.0}, {\"predict\": 6.053179800621915, \"true\": 5.0}, {\"predict\": 7.283461599371281, \"true\": 7.0}, {\"predict\": 5.780266510468643, \"true\": 7.0}, {\"predict\": 4.482876857036647, \"true\": 3.0}, {\"predict\": 3.553389711364356, \"true\": 2.0}, {\"predict\": 6.049132888506145, \"true\": 7.0}, {\"predict\": 5.2805951293694875, \"true\": 5.5}, {\"predict\": 5.736307163868661, \"true\": 5.0}, {\"predict\": 7.005774126248737, \"true\": 7.0}, {\"predict\": 5.143710120969071, \"true\": 5.1}, {\"predict\": 4.37407433479935, \"true\": 5.0}, {\"predict\": 5.66990127674585, \"true\": 6.0}, {\"predict\": 5.250983758977851, \"true\": 6.0}, {\"predict\": 4.290177000731088, \"true\": 5.0}, {\"predict\": 5.692133640735861, \"true\": 6.0}, {\"predict\": 6.531459998545079, \"true\": 7.0}, {\"predict\": 6.076397906422, \"true\": 6.0}, {\"predict\": 6.119292904871154, \"true\": 4.0}, {\"predict\": 6.309789931384259, \"true\": 7.0}, {\"predict\": 8.324934758434111, \"true\": 9.0}, {\"predict\": 6.8206956533423115, \"true\": 8.0}, {\"predict\": 5.070213269107502, \"true\": 8.0}, {\"predict\": 5.94918617748379, \"true\": 2.0}, {\"predict\": 6.064479052060443, \"true\": 5.0}, {\"predict\": 4.992782473486191, \"true\": 4.0}, {\"predict\": 6.985383928703522, \"true\": 8.0}, {\"predict\": 6.206722448816253, \"true\": 8.0}, {\"predict\": 4.860971489117768, \"true\": 2.5}, {\"predict\": 6.256915876817583, \"true\": 8.0}, {\"predict\": 6.194326673456018, \"true\": 6.9}, {\"predict\": 5.713737592693285, \"true\": 8.0}, {\"predict\": 7.891841709294756, \"true\": 7.5}, {\"predict\": 7.029542512822237, \"true\": 8.4}, {\"predict\": 5.022228655108693, \"true\": 4.0}, {\"predict\": 5.611438798174998, \"true\": 7.0}, {\"predict\": 6.371263111213022, \"true\": 3.0}, {\"predict\": 4.6028649925169836, \"true\": 2.0}, {\"predict\": 6.030368776369762, \"true\": 6.0}, {\"predict\": 6.438717832714317, \"true\": 8.0}, {\"predict\": 8.334989283073298, \"true\": 8.0}, {\"predict\": 6.5259133718532825, \"true\": 7.0}, {\"predict\": 6.138739450479229, \"true\": 5.0}, {\"predict\": 5.032152984429947, \"true\": 3.0}, {\"predict\": 5.742557591665962, \"true\": 7.0}, {\"predict\": 3.6614065642033973, \"true\": 2.0}, {\"predict\": 6.430838512381499, \"true\": 7.0}, {\"predict\": 6.35034628280161, \"true\": 7.3}, {\"predict\": 7.3274468800768275, \"true\": 6.0}, {\"predict\": 6.374190249369652, \"true\": 6.0}, {\"predict\": 3.7182475993069968, \"true\": 3.0}, {\"predict\": 4.762080548789097, \"true\": 5.0}, {\"predict\": 7.795160379407011, \"true\": 8.0}, {\"predict\": 6.134861919537329, \"true\": 6.0}, {\"predict\": 7.3882828410561965, \"true\": 7.5}, {\"predict\": 6.04645438076532, \"true\": 7.0}, {\"predict\": 5.415378067796211, \"true\": 6.0}, {\"predict\": 6.117636278926837, \"true\": 7.0}, {\"predict\": 5.735981085647701, \"true\": 5.0}, {\"predict\": 5.8602835277842455, \"true\": 5.0}, {\"predict\": 3.989881423303953, \"true\": 7.0}, {\"predict\": 5.761710344857328, \"true\": 6.0}, {\"predict\": 7.060794336416935, \"true\": 7.4}, {\"predict\": 6.379919443137049, \"true\": 7.0}, {\"predict\": 5.668479128691291, \"true\": 7.0}, {\"predict\": 4.920434536049298, \"true\": 6.0}, {\"predict\": 6.358258529498351, \"true\": 7.5}, {\"predict\": 6.8572761277512, \"true\": 7.0}, {\"predict\": 6.608827228201951, \"true\": 7.0}, {\"predict\": 4.958300455359317, \"true\": 5.0}, {\"predict\": 4.765214665376737, \"true\": 5.0}, {\"predict\": 5.371297057309578, \"true\": 6.0}, {\"predict\": 7.420603240671106, \"true\": 7.0}, {\"predict\": 4.340525163316629, \"true\": 4.0}, {\"predict\": 5.841433455108318, \"true\": 5.0}, {\"predict\": 5.2943361599230725, \"true\": 6.0}, {\"predict\": 5.727727999484503, \"true\": 7.0}, {\"predict\": 6.769299291923764, \"true\": 10.0}, {\"predict\": 7.34444292923375, \"true\": 9.0}, {\"predict\": 5.153745697666208, \"true\": 5.0}, {\"predict\": 4.422433353961885, \"true\": 2.0}, {\"predict\": 7.06410526354826, \"true\": 7.0}, {\"predict\": 7.75395400486654, \"true\": 8.4}, {\"predict\": 5.093046688757678, \"true\": 5.0}, {\"predict\": 7.108292675891258, \"true\": 8.4}, {\"predict\": 4.963916107832521, \"true\": 5.0}, {\"predict\": 8.223789042147436, \"true\": 9.0}, {\"predict\": 5.038669326432192, \"true\": 3.0}, {\"predict\": 5.971601280679649, \"true\": 4.0}, {\"predict\": 6.13751112256853, \"true\": 6.0}, {\"predict\": 5.090311582364147, \"true\": 3.0}, {\"predict\": 5.202334737343012, \"true\": 6.0}, {\"predict\": 5.70996941759888, \"true\": 5.8}, {\"predict\": 5.23907920214255, \"true\": 6.0}, {\"predict\": 5.505889965505059, \"true\": 7.0}, {\"predict\": 6.145224854462624, \"true\": 8.0}, {\"predict\": 5.023566781916683, \"true\": 4.0}, {\"predict\": 5.141716495522379, \"true\": 4.0}, {\"predict\": 5.911799148754534, \"true\": 7.0}, {\"predict\": 7.088978262404991, \"true\": 8.0}, {\"predict\": 3.452937787286471, \"true\": 1.0}, {\"predict\": 6.852454879380648, \"true\": 8.0}, {\"predict\": 6.837535728649186, \"true\": 7.9}, {\"predict\": 6.323714990039761, \"true\": 6.5}, {\"predict\": 6.707053041555763, \"true\": 6.3}, {\"predict\": 3.6464992883552982, \"true\": 4.0}, {\"predict\": 7.020119669862998, \"true\": 7.0}, {\"predict\": 6.788137529955829, \"true\": 6.0}, {\"predict\": 7.141157803312587, \"true\": 7.5}, {\"predict\": 4.530686852267289, \"true\": 6.0}, {\"predict\": 6.273365690452259, \"true\": 7.0}, {\"predict\": 5.5170260374058415, \"true\": 6.0}, {\"predict\": 5.472372841975339, \"true\": 4.0}, {\"predict\": 6.76091305512443, \"true\": 9.0}, {\"predict\": 7.456255162356196, \"true\": 8.0}, {\"predict\": 4.8703719643308085, \"true\": 5.0}, {\"predict\": 5.415436776859201, \"true\": 5.0}, {\"predict\": 5.154430963364613, \"true\": 6.0}, {\"predict\": 5.906092631623073, \"true\": 5.0}, {\"predict\": 5.395634717143307, \"true\": 5.0}, {\"predict\": 6.132120710451837, \"true\": 6.0}, {\"predict\": 7.944818478014838, \"true\": 9.0}, {\"predict\": 6.722500301839973, \"true\": 6.0}, {\"predict\": 4.975675338715272, \"true\": 8.0}, {\"predict\": 4.911700720826734, \"true\": 4.0}, {\"predict\": 6.448795473829419, \"true\": 7.0}, {\"predict\": 6.242009034481628, \"true\": 9.0}, {\"predict\": 7.701808242619897, \"true\": 8.0}, {\"predict\": 5.295147469281912, \"true\": 5.0}, {\"predict\": 5.099844161698078, \"true\": 5.0}, {\"predict\": 4.829629393256051, \"true\": 4.0}, {\"predict\": 5.474791892369012, \"true\": 5.0}, {\"predict\": 4.922188399516184, \"true\": 8.0}, {\"predict\": 4.759225895453561, \"true\": 5.0}, {\"predict\": 5.24445038324202, \"true\": 4.0}, {\"predict\": 7.564896637700301, \"true\": 9.1}, {\"predict\": 7.591680607516937, \"true\": 8.0}, {\"predict\": 6.268972983339869, \"true\": 6.0}, {\"predict\": 4.473380122615637, \"true\": 2.0}, {\"predict\": 6.525276903321573, \"true\": 8.0}, {\"predict\": 5.991753076708781, \"true\": 6.0}, {\"predict\": 7.090017273993402, \"true\": 7.0}, {\"predict\": 8.579013731582696, \"true\": 8.5}, {\"predict\": 7.81318476579669, \"true\": 9.0}, {\"predict\": 6.274162301419583, \"true\": 7.9}, {\"predict\": 6.417869164865397, \"true\": 6.0}, {\"predict\": 5.726791495043586, \"true\": 4.0}, {\"predict\": 5.149900716673425, \"true\": 7.0}, {\"predict\": 4.406707400511683, \"true\": 3.0}, {\"predict\": 5.881477731425068, \"true\": 7.0}, {\"predict\": 5.841835637860509, \"true\": 5.0}, {\"predict\": 5.74084842620034, \"true\": 6.0}, {\"predict\": 4.37708319902052, \"true\": 4.0}, {\"predict\": 5.021321980329871, \"true\": 5.0}, {\"predict\": 6.973490313125449, \"true\": 8.0}, {\"predict\": 6.30103718387107, \"true\": 9.0}, {\"predict\": 5.304447809384061, \"true\": 6.0}, {\"predict\": 6.003769800479237, \"true\": 4.0}, {\"predict\": 6.3885241492237785, \"true\": 9.0}, {\"predict\": 6.613164347751382, \"true\": 6.0}, {\"predict\": 4.614147938093436, \"true\": 5.0}, {\"predict\": 6.049367891826755, \"true\": 6.0}, {\"predict\": 8.855097079181732, \"true\": 9.0}, {\"predict\": 7.0766286024320495, \"true\": 7.0}, {\"predict\": 6.129555231333259, \"true\": 5.699999999999998}, {\"predict\": 6.845695573047074, \"true\": 8.0}, {\"predict\": 5.388994759330878, \"true\": 6.0}, {\"predict\": 5.858229303417076, \"true\": 6.0}, {\"predict\": 4.96338357050311, \"true\": 4.0}, {\"predict\": 5.9242573121351185, \"true\": 5.0}, {\"predict\": 4.477192858011526, \"true\": 5.8}, {\"predict\": 7.170595156269172, \"true\": 7.5}, {\"predict\": 5.01146595484987, \"true\": 4.0}, {\"predict\": 4.998866663132652, \"true\": 5.1}, {\"predict\": 3.6939446506724645, \"true\": 1.0}, {\"predict\": 5.671318905004333, \"true\": 7.0}, {\"predict\": 5.6534833366645785, \"true\": 5.0}, {\"predict\": 5.619025021092642, \"true\": 6.4}, {\"predict\": 6.559402809837603, \"true\": 8.0}, {\"predict\": 5.321361559087506, \"true\": 3.0}, {\"predict\": 5.14406111836075, \"true\": 7.0}, {\"predict\": 5.571828654292312, \"true\": 5.0}, {\"predict\": 7.02628350935055, \"true\": 7.0}, {\"predict\": 4.974107233002269, \"true\": 3.2}, {\"predict\": 6.706417306964651, \"true\": 7.0}, {\"predict\": 3.9299173874518525, \"true\": 5.0}, {\"predict\": 5.886380686771227, \"true\": 6.0}, {\"predict\": 3.9039140676567534, \"true\": 3.0}, {\"predict\": 5.4724622073941, \"true\": 6.0}, {\"predict\": 5.995763684742501, \"true\": 8.0}, {\"predict\": 5.631214118033365, \"true\": 7.0}, {\"predict\": 5.378635904599051, \"true\": 5.0}, {\"predict\": 6.109191176204167, \"true\": 7.0}, {\"predict\": 4.699278923737596, \"true\": 3.0}, {\"predict\": 6.381208192744922, \"true\": 6.0}, {\"predict\": 4.334061765893928, \"true\": 5.0}, {\"predict\": 5.3537613561713275, \"true\": 6.0}, {\"predict\": 5.5279820083470055, \"true\": 4.0}, {\"predict\": 7.83099785467522, \"true\": 8.0}, {\"predict\": 4.8463933783127775, \"true\": 5.0}, {\"predict\": 5.211479477460438, \"true\": 4.0}, {\"predict\": 6.95044398486582, \"true\": 7.0}, {\"predict\": 6.263964549364155, \"true\": 8.0}, {\"predict\": 5.952456854668574, \"true\": 7.0}, {\"predict\": 6.843445393208252, \"true\": 7.0}, {\"predict\": 4.880164522523923, \"true\": 4.0}, {\"predict\": 6.366358110289376, \"true\": 5.0}, {\"predict\": 4.578670264198288, \"true\": 3.0}, {\"predict\": 6.782999998048183, \"true\": 8.0}, {\"predict\": 7.90714309184267, \"true\": 8.0}, {\"predict\": 6.487073824492973, \"true\": 7.0}, {\"predict\": 4.423585298698194, \"true\": 3.0}, {\"predict\": 6.523773062641025, \"true\": 6.0}, {\"predict\": 3.868101704840875, \"true\": 2.0}, {\"predict\": 5.710604949964977, \"true\": 4.0}, {\"predict\": 5.334101016441281, \"true\": 3.0}, {\"predict\": 5.7394171638407885, \"true\": 3.0}, {\"predict\": 5.43760013404373, \"true\": 6.0}, {\"predict\": 6.694681960557515, \"true\": 5.0}, {\"predict\": 5.506839896096186, \"true\": 6.0}, {\"predict\": 6.5617735367259415, \"true\": 5.0}, {\"predict\": 5.13500040116392, \"true\": 7.0}, {\"predict\": 6.640313157808119, \"true\": 7.0}, {\"predict\": 6.873547624895533, \"true\": 7.0}, {\"predict\": 6.356001036972254, \"true\": 7.0}, {\"predict\": 5.334406674207792, \"true\": 5.0}, {\"predict\": 6.2491249995682745, \"true\": 4.0}, {\"predict\": 6.655781147175594, \"true\": 6.0}, {\"predict\": 5.793460856672801, \"true\": 7.0}, {\"predict\": 5.2245754018461845, \"true\": 4.0}, {\"predict\": 6.259183767017797, \"true\": 6.0}, {\"predict\": 5.388583737979486, \"true\": 7.0}, {\"predict\": 5.156008110542099, \"true\": 3.0}, {\"predict\": 6.097668360394454, \"true\": 8.0}, {\"predict\": 6.6840496721073155, \"true\": 7.0}, {\"predict\": 6.566668293920688, \"true\": 7.0}, {\"predict\": 4.589045744210813, \"true\": 8.0}, {\"predict\": 6.643911715597078, \"true\": 5.0}, {\"predict\": 5.91938487189712, \"true\": 5.0}, {\"predict\": 3.7095391480323423, \"true\": 3.0}, {\"predict\": 7.6104235887979375, \"true\": 8.0}, {\"predict\": 5.305376785206582, \"true\": 7.0}, {\"predict\": 5.6408043222092985, \"true\": 6.0}, {\"predict\": 6.532760897183378, \"true\": 9.0}, {\"predict\": 6.424890409981588, \"true\": 9.0}, {\"predict\": 4.2752172928480325, \"true\": 4.1}, {\"predict\": 6.967699124518285, \"true\": 6.0}, {\"predict\": 4.150161529781818, \"true\": 3.0}, {\"predict\": 4.144930534380397, \"true\": 5.0}, {\"predict\": 4.444904398339036, \"true\": 3.0}, {\"predict\": 5.212567624334374, \"true\": 5.0}, {\"predict\": 5.667665241217529, \"true\": 6.0}, {\"predict\": 4.208097402515952, \"true\": 3.0}, {\"predict\": 7.080628844280641, \"true\": 6.0}, {\"predict\": 4.027587428453216, \"true\": 2.0}, {\"predict\": 5.172873789546843, \"true\": 4.0}, {\"predict\": 5.517132845472295, \"true\": 5.5}, {\"predict\": 4.984968848049093, \"true\": 7.0}, {\"predict\": 6.912125763425956, \"true\": 6.0}, {\"predict\": 4.412224180609179, \"true\": 5.0}, {\"predict\": 5.02391805765018, \"true\": 6.0}, {\"predict\": 5.537458637314369, \"true\": 4.0}, {\"predict\": 5.8528139323170905, \"true\": 8.299999999999999}, {\"predict\": 5.4501303211220264, \"true\": 5.4}, {\"predict\": 4.979289842476691, \"true\": 5.0}, {\"predict\": 8.130687706506729, \"true\": 9.0}, {\"predict\": 7.423797410303852, \"true\": 7.9}, {\"predict\": 4.481865957759552, \"true\": 6.0}, {\"predict\": 6.621085845137884, \"true\": 6.0}, {\"predict\": 5.74046005999886, \"true\": 8.0}, {\"predict\": 4.697905571229844, \"true\": 4.699999999999998}, {\"predict\": 6.283806681771708, \"true\": 6.0}, {\"predict\": 5.08390660569658, \"true\": 4.0}, {\"predict\": 7.066547861735587, \"true\": 7.0}, {\"predict\": 4.181486358404298, \"true\": 2.0}, {\"predict\": 6.066221944675519, \"true\": 6.0}, {\"predict\": 6.40676827978167, \"true\": 7.0}, {\"predict\": 5.334733748591791, \"true\": 6.0}, {\"predict\": 4.948909662840228, \"true\": 7.0}, {\"predict\": 7.665164445523318, \"true\": 7.4}, {\"predict\": 4.596159864287074, \"true\": 4.0}, {\"predict\": 7.395932970163728, \"true\": 6.5}, {\"predict\": 5.804943557015547, \"true\": 6.0}, {\"predict\": 6.003980223848899, \"true\": 5.0}, {\"predict\": 7.535585721149144, \"true\": 7.4}, {\"predict\": 7.226610822132399, \"true\": 6.0}, {\"predict\": 5.6781244060567, \"true\": 5.0}, {\"predict\": 6.123631219025565, \"true\": 7.6}, {\"predict\": 5.344874427959395, \"true\": 6.0}, {\"predict\": 6.654184646711374, \"true\": 8.0}, {\"predict\": 5.720789552198445, \"true\": 7.0}, {\"predict\": 7.034198947590037, \"true\": 9.0}, {\"predict\": 7.039568773097692, \"true\": 8.0}, {\"predict\": 5.4596724275843025, \"true\": 6.0}, {\"predict\": 5.230577045878942, \"true\": 3.0}, {\"predict\": 6.717190375173164, \"true\": 6.0}, {\"predict\": 6.341560015672325, \"true\": 6.0}, {\"predict\": 4.391588728641359, \"true\": 3.0}, {\"predict\": 5.5543067076661, \"true\": 5.0}, {\"predict\": 6.898326157899131, \"true\": 7.0}, {\"predict\": 6.33577846938936, \"true\": 7.0}, {\"predict\": 5.459066304736856, \"true\": 6.0}, {\"predict\": 4.791422705907284, \"true\": 5.0}, {\"predict\": 6.162229947662659, \"true\": 5.0}, {\"predict\": 5.4986402006522805, \"true\": 5.0}, {\"predict\": 7.905262294796409, \"true\": 8.0}, {\"predict\": 6.082082418161884, \"true\": 6.5}]}};\n",
       "      var embedOpt = {\"mode\": \"vega-lite\"};\n",
       "\n",
       "      function showError(el, error){\n",
       "          el.innerHTML = ('<div class=\"error\" style=\"color:red;\">'\n",
       "                          + '<p>JavaScript Error: ' + error.message + '</p>'\n",
       "                          + \"<p>This usually means there's a typo in your chart specification. \"\n",
       "                          + \"See the javascript console for the full traceback.</p>\"\n",
       "                          + '</div>');\n",
       "          throw error;\n",
       "      }\n",
       "      const el = document.getElementById('vis');\n",
       "      vegaEmbed(\"#vis\", spec, embedOpt)\n",
       "        .catch(error => showError(el, error));\n",
       "    })(vegaEmbed);\n",
       "\n",
       "  </script>\n",
       "</body>\n",
       "</html>"
      ],
      "text/plain": [
       "<IPython.core.display.HTML object>"
      ]
     },
     "execution_count": 2,
     "metadata": {},
     "output_type": "execute_result"
    }
   ],
   "source": [
    "from IPython.display import HTML\n",
    "HTML(filename='../results/true_vs_predict.html')"
   ]
  },
  {
   "cell_type": "markdown",
   "metadata": {},
   "source": [
    "> There is an obvious difference between the predicted ratings and true ratings. In the true ratings, people tend to give whole number rating, i.e. 0.3 instead of 0.3247. Our model did not capture that. \n",
    "\n",
    "Despite that, most of the points are somewhat clustered around the identity line. This indicates that our model didn't seem to under-fit or over-fit. "
   ]
  },
  {
   "cell_type": "markdown",
   "metadata": {},
   "source": [
    "## VII. Criticism and Improvements <a class=\"anchor\" id=\"7\"></a>"
   ]
  },
  {
   "cell_type": "markdown",
   "metadata": {},
   "source": [
    "Now that we are done with our prediction and analysis, we can examine the quality of our work. \n",
    "In fact, there are a few areas of improvement. "
   ]
  },
  {
   "cell_type": "markdown",
   "metadata": {},
   "source": [
    "- We discarded the `Author` and `id` columns at the beginning. In fact, these columns may be influential features, especially `Author`. One major flaw of our dataset is that all reviews come from four critics. This makes it difficult to generalize to the broader audience. It would better if we can obtain reviews from the general audiences. "
   ]
  },
  {
   "cell_type": "markdown",
   "metadata": {},
   "source": [
    "- The `sentiment` feature genereated with the NLTK package contained only `neu` and `compound` in our dataset. This is confusing and we have yet to understand this behavior. We included the feature regardless because it may still provide useful information. However, this is definitely a place we need to investigate further into. "
   ]
  },
  {
   "cell_type": "markdown",
   "metadata": {},
   "source": [
    "- As shown on the predicition vs true rating plot above, some of our predictions went beyond the rating limit of 10. We could have set some sort of boundary for our prediction."
   ]
  },
  {
   "cell_type": "markdown",
   "metadata": {},
   "source": [
    "- As mentioned above, our model did not capture the pattern where humans tend to give whole number scores. In the future, we can probably give more emphasis to predicting whole number scores, so that our model resembles more human behaviors. "
   ]
  },
  {
   "cell_type": "markdown",
   "metadata": {},
   "source": [
    "## References\n",
    "\n",
    "1. Dua, Dheeru, and Casey Graff. 2017. “UCI Machine Learning Repository.” University of California, Irvine, School of Information; Computer Sciences. (http://archive.ics.uci.edu/ml) <a class=\"anchor\" id=\"c1\"></a>\n",
    "2. Bird, Steven, Edward Loper and Ewan Klein (2009). Natural Language Processing with Python.  O'Reilly Media Inc. (https://www.nltk.org/) <a class=\"anchor\" id=\"c2\"></a>\n",
    "3. Scikit-learn: Machine Learning in Python, Pedregosa et al., JMLR 12, pp. 2825-2830, 2011. (https://jmlr.csail.mit.edu/papers/v12/pedregosa11a.html) <a class=\"anchor\" id=\"c3\"></a>"
   ]
  },
  {
   "cell_type": "code",
   "execution_count": null,
   "metadata": {},
   "outputs": [],
   "source": []
  }
 ],
 "metadata": {
  "kernelspec": {
   "display_name": "Python 3",
   "language": "python",
   "name": "python3"
  },
  "language_info": {
   "codemirror_mode": {
    "name": "ipython",
    "version": 3
   },
   "file_extension": ".py",
   "mimetype": "text/x-python",
   "name": "python",
   "nbconvert_exporter": "python",
   "pygments_lexer": "ipython3",
   "version": "3.8.6"
  }
 },
 "nbformat": 4,
 "nbformat_minor": 4
}
